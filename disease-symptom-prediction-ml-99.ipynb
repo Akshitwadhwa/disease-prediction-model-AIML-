{
 "cells": [
  {
   "cell_type": "code",
   "execution_count": 34,
   "metadata": {
    "_cell_guid": "b1076dfc-b9ad-4769-8c92-a6c4dae69d19",
    "_uuid": "8f2839f25d086af736a60e9eeb907d3b93b6e0e5",
    "execution": {
     "iopub.execute_input": "2022-12-30T16:36:26.600498Z",
     "iopub.status.busy": "2022-12-30T16:36:26.600193Z",
     "iopub.status.idle": "2022-12-30T16:36:26.614492Z",
     "shell.execute_reply": "2022-12-30T16:36:26.613187Z",
     "shell.execute_reply.started": "2022-12-30T16:36:26.60047Z"
    },
    "papermill": {
     "duration": 1.394335,
     "end_time": "2021-08-30T15:05:17.551091",
     "exception": false,
     "start_time": "2021-08-30T15:05:16.156756",
     "status": "completed"
    },
    "tags": [],
    "trusted": true
   },
   "outputs": [],
   "source": [
    "import pandas as pd\n",
    "import numpy as np\n",
    "import matplotlib.pyplot as plt\n",
    "from sklearn.model_selection import train_test_split,KFold,cross_val_score\n",
    "from sklearn.svm import SVC\n",
    "\n",
    "import seaborn as sns\n",
    "\n"
   ]
  },
  {
   "cell_type": "code",
   "execution_count": 35,
   "metadata": {},
   "outputs": [],
   "source": [
    "import joblib"
   ]
  },
  {
   "cell_type": "markdown",
   "metadata": {
    "papermill": {
     "duration": 0.024723,
     "end_time": "2021-08-30T15:05:17.748249",
     "exception": false,
     "start_time": "2021-08-30T15:05:17.723526",
     "status": "completed"
    },
    "tags": []
   },
   "source": [
    "**Read and shuffle the dataset**"
   ]
  },
  {
   "cell_type": "code",
   "execution_count": 36,
   "metadata": {
    "_cell_guid": "79c7e3d0-c299-4dcb-8224-4455121ee9b0",
    "_uuid": "d629ff2d2480ee46fbb7e2d37f6b5fab8052498a",
    "execution": {
     "iopub.execute_input": "2022-12-30T16:36:26.617293Z",
     "iopub.status.busy": "2022-12-30T16:36:26.616752Z",
     "iopub.status.idle": "2022-12-30T16:36:26.665498Z",
     "shell.execute_reply": "2022-12-30T16:36:26.664412Z",
     "shell.execute_reply.started": "2022-12-30T16:36:26.617252Z"
    },
    "papermill": {
     "duration": 0.098404,
     "end_time": "2021-08-30T15:05:17.923833",
     "exception": false,
     "start_time": "2021-08-30T15:05:17.825429",
     "status": "completed"
    },
    "tags": [],
    "trusted": true
   },
   "outputs": [
    {
     "data": {
      "text/html": [
       "<div>\n",
       "<style scoped>\n",
       "    .dataframe tbody tr th:only-of-type {\n",
       "        vertical-align: middle;\n",
       "    }\n",
       "\n",
       "    .dataframe tbody tr th {\n",
       "        vertical-align: top;\n",
       "    }\n",
       "\n",
       "    .dataframe thead th {\n",
       "        text-align: right;\n",
       "    }\n",
       "</style>\n",
       "<table border=\"1\" class=\"dataframe\">\n",
       "  <thead>\n",
       "    <tr style=\"text-align: right;\">\n",
       "      <th></th>\n",
       "      <th>Disease</th>\n",
       "      <th>Symptom_1</th>\n",
       "      <th>Symptom_2</th>\n",
       "      <th>Symptom_3</th>\n",
       "      <th>Symptom_4</th>\n",
       "      <th>Symptom_5</th>\n",
       "      <th>Symptom_6</th>\n",
       "      <th>Symptom_7</th>\n",
       "      <th>Symptom_8</th>\n",
       "      <th>Symptom_9</th>\n",
       "      <th>Symptom_10</th>\n",
       "      <th>Symptom_11</th>\n",
       "      <th>Symptom_12</th>\n",
       "      <th>Symptom_13</th>\n",
       "      <th>Symptom_14</th>\n",
       "      <th>Symptom_15</th>\n",
       "      <th>Symptom_16</th>\n",
       "      <th>Symptom_17</th>\n",
       "    </tr>\n",
       "  </thead>\n",
       "  <tbody>\n",
       "    <tr>\n",
       "      <th>0</th>\n",
       "      <td>Fungal infection</td>\n",
       "      <td>itching</td>\n",
       "      <td>skin_rash</td>\n",
       "      <td>nodal_skin_eruptions</td>\n",
       "      <td>dischromic _patches</td>\n",
       "      <td>NaN</td>\n",
       "      <td>NaN</td>\n",
       "      <td>NaN</td>\n",
       "      <td>NaN</td>\n",
       "      <td>NaN</td>\n",
       "      <td>NaN</td>\n",
       "      <td>NaN</td>\n",
       "      <td>NaN</td>\n",
       "      <td>NaN</td>\n",
       "      <td>NaN</td>\n",
       "      <td>NaN</td>\n",
       "      <td>NaN</td>\n",
       "      <td>NaN</td>\n",
       "    </tr>\n",
       "    <tr>\n",
       "      <th>1</th>\n",
       "      <td>Fungal infection</td>\n",
       "      <td>skin_rash</td>\n",
       "      <td>nodal_skin_eruptions</td>\n",
       "      <td>dischromic _patches</td>\n",
       "      <td>NaN</td>\n",
       "      <td>NaN</td>\n",
       "      <td>NaN</td>\n",
       "      <td>NaN</td>\n",
       "      <td>NaN</td>\n",
       "      <td>NaN</td>\n",
       "      <td>NaN</td>\n",
       "      <td>NaN</td>\n",
       "      <td>NaN</td>\n",
       "      <td>NaN</td>\n",
       "      <td>NaN</td>\n",
       "      <td>NaN</td>\n",
       "      <td>NaN</td>\n",
       "      <td>NaN</td>\n",
       "    </tr>\n",
       "    <tr>\n",
       "      <th>2</th>\n",
       "      <td>Fungal infection</td>\n",
       "      <td>itching</td>\n",
       "      <td>nodal_skin_eruptions</td>\n",
       "      <td>dischromic _patches</td>\n",
       "      <td>NaN</td>\n",
       "      <td>NaN</td>\n",
       "      <td>NaN</td>\n",
       "      <td>NaN</td>\n",
       "      <td>NaN</td>\n",
       "      <td>NaN</td>\n",
       "      <td>NaN</td>\n",
       "      <td>NaN</td>\n",
       "      <td>NaN</td>\n",
       "      <td>NaN</td>\n",
       "      <td>NaN</td>\n",
       "      <td>NaN</td>\n",
       "      <td>NaN</td>\n",
       "      <td>NaN</td>\n",
       "    </tr>\n",
       "    <tr>\n",
       "      <th>3</th>\n",
       "      <td>Fungal infection</td>\n",
       "      <td>itching</td>\n",
       "      <td>skin_rash</td>\n",
       "      <td>dischromic _patches</td>\n",
       "      <td>NaN</td>\n",
       "      <td>NaN</td>\n",
       "      <td>NaN</td>\n",
       "      <td>NaN</td>\n",
       "      <td>NaN</td>\n",
       "      <td>NaN</td>\n",
       "      <td>NaN</td>\n",
       "      <td>NaN</td>\n",
       "      <td>NaN</td>\n",
       "      <td>NaN</td>\n",
       "      <td>NaN</td>\n",
       "      <td>NaN</td>\n",
       "      <td>NaN</td>\n",
       "      <td>NaN</td>\n",
       "    </tr>\n",
       "    <tr>\n",
       "      <th>4</th>\n",
       "      <td>Fungal infection</td>\n",
       "      <td>itching</td>\n",
       "      <td>skin_rash</td>\n",
       "      <td>nodal_skin_eruptions</td>\n",
       "      <td>NaN</td>\n",
       "      <td>NaN</td>\n",
       "      <td>NaN</td>\n",
       "      <td>NaN</td>\n",
       "      <td>NaN</td>\n",
       "      <td>NaN</td>\n",
       "      <td>NaN</td>\n",
       "      <td>NaN</td>\n",
       "      <td>NaN</td>\n",
       "      <td>NaN</td>\n",
       "      <td>NaN</td>\n",
       "      <td>NaN</td>\n",
       "      <td>NaN</td>\n",
       "      <td>NaN</td>\n",
       "    </tr>\n",
       "  </tbody>\n",
       "</table>\n",
       "</div>"
      ],
      "text/plain": [
       "            Disease   Symptom_1              Symptom_2              Symptom_3  \\\n",
       "0  Fungal infection     itching              skin_rash   nodal_skin_eruptions   \n",
       "1  Fungal infection   skin_rash   nodal_skin_eruptions    dischromic _patches   \n",
       "2  Fungal infection     itching   nodal_skin_eruptions    dischromic _patches   \n",
       "3  Fungal infection     itching              skin_rash    dischromic _patches   \n",
       "4  Fungal infection     itching              skin_rash   nodal_skin_eruptions   \n",
       "\n",
       "              Symptom_4 Symptom_5 Symptom_6 Symptom_7 Symptom_8 Symptom_9  \\\n",
       "0   dischromic _patches       NaN       NaN       NaN       NaN       NaN   \n",
       "1                   NaN       NaN       NaN       NaN       NaN       NaN   \n",
       "2                   NaN       NaN       NaN       NaN       NaN       NaN   \n",
       "3                   NaN       NaN       NaN       NaN       NaN       NaN   \n",
       "4                   NaN       NaN       NaN       NaN       NaN       NaN   \n",
       "\n",
       "  Symptom_10 Symptom_11 Symptom_12 Symptom_13 Symptom_14 Symptom_15  \\\n",
       "0        NaN        NaN        NaN        NaN        NaN        NaN   \n",
       "1        NaN        NaN        NaN        NaN        NaN        NaN   \n",
       "2        NaN        NaN        NaN        NaN        NaN        NaN   \n",
       "3        NaN        NaN        NaN        NaN        NaN        NaN   \n",
       "4        NaN        NaN        NaN        NaN        NaN        NaN   \n",
       "\n",
       "  Symptom_16 Symptom_17  \n",
       "0        NaN        NaN  \n",
       "1        NaN        NaN  \n",
       "2        NaN        NaN  \n",
       "3        NaN        NaN  \n",
       "4        NaN        NaN  "
      ]
     },
     "execution_count": 36,
     "metadata": {},
     "output_type": "execute_result"
    }
   ],
   "source": [
    "df = pd.read_csv('/Users/Lenovo/Desktop/second year/prj1 dataset/dataset.csv')\n",
    "df.head()"
   ]
  },
  {
   "cell_type": "markdown",
   "metadata": {},
   "source": [
    "**Removing Hyphen from strings**"
   ]
  },
  {
   "cell_type": "code",
   "execution_count": 37,
   "metadata": {
    "execution": {
     "iopub.execute_input": "2022-12-30T16:36:26.667192Z",
     "iopub.status.busy": "2022-12-30T16:36:26.666839Z",
     "iopub.status.idle": "2022-12-30T16:36:26.724736Z",
     "shell.execute_reply": "2022-12-30T16:36:26.723598Z",
     "shell.execute_reply.started": "2022-12-30T16:36:26.667161Z"
    },
    "trusted": true
   },
   "outputs": [],
   "source": [
    "for col in df.columns:\n",
    "    if df[col].dtype == 'object':  # Only process string columns\n",
    "        df[col] = df[col].str.replace('_', ' ')"
   ]
  },
  {
   "cell_type": "markdown",
   "metadata": {
    "papermill": {
     "duration": 0.030266,
     "end_time": "2021-08-30T15:05:17.979853",
     "exception": false,
     "start_time": "2021-08-30T15:05:17.949587",
     "status": "completed"
    },
    "tags": []
   },
   "source": [
    "**Dataset characteristics**"
   ]
  },
  {
   "cell_type": "code",
   "execution_count": 38,
   "metadata": {
    "execution": {
     "iopub.execute_input": "2022-12-30T16:36:26.728426Z",
     "iopub.status.busy": "2022-12-30T16:36:26.727375Z",
     "iopub.status.idle": "2022-12-30T16:36:26.780181Z",
     "shell.execute_reply": "2022-12-30T16:36:26.779033Z",
     "shell.execute_reply.started": "2022-12-30T16:36:26.728387Z"
    },
    "papermill": {
     "duration": 0.139299,
     "end_time": "2021-08-30T15:05:18.145989",
     "exception": false,
     "start_time": "2021-08-30T15:05:18.00669",
     "status": "completed"
    },
    "tags": [],
    "trusted": true
   },
   "outputs": [
    {
     "data": {
      "text/html": [
       "<div>\n",
       "<style scoped>\n",
       "    .dataframe tbody tr th:only-of-type {\n",
       "        vertical-align: middle;\n",
       "    }\n",
       "\n",
       "    .dataframe tbody tr th {\n",
       "        vertical-align: top;\n",
       "    }\n",
       "\n",
       "    .dataframe thead th {\n",
       "        text-align: right;\n",
       "    }\n",
       "</style>\n",
       "<table border=\"1\" class=\"dataframe\">\n",
       "  <thead>\n",
       "    <tr style=\"text-align: right;\">\n",
       "      <th></th>\n",
       "      <th>Disease</th>\n",
       "      <th>Symptom_1</th>\n",
       "      <th>Symptom_2</th>\n",
       "      <th>Symptom_3</th>\n",
       "      <th>Symptom_4</th>\n",
       "      <th>Symptom_5</th>\n",
       "      <th>Symptom_6</th>\n",
       "      <th>Symptom_7</th>\n",
       "      <th>Symptom_8</th>\n",
       "      <th>Symptom_9</th>\n",
       "      <th>Symptom_10</th>\n",
       "      <th>Symptom_11</th>\n",
       "      <th>Symptom_12</th>\n",
       "      <th>Symptom_13</th>\n",
       "      <th>Symptom_14</th>\n",
       "      <th>Symptom_15</th>\n",
       "      <th>Symptom_16</th>\n",
       "      <th>Symptom_17</th>\n",
       "    </tr>\n",
       "  </thead>\n",
       "  <tbody>\n",
       "    <tr>\n",
       "      <th>count</th>\n",
       "      <td>4920</td>\n",
       "      <td>4920</td>\n",
       "      <td>4920</td>\n",
       "      <td>4920</td>\n",
       "      <td>4572</td>\n",
       "      <td>3714</td>\n",
       "      <td>2934</td>\n",
       "      <td>2268</td>\n",
       "      <td>1944</td>\n",
       "      <td>1692</td>\n",
       "      <td>1512</td>\n",
       "      <td>1194</td>\n",
       "      <td>744</td>\n",
       "      <td>504</td>\n",
       "      <td>306</td>\n",
       "      <td>240</td>\n",
       "      <td>192</td>\n",
       "      <td>72</td>\n",
       "    </tr>\n",
       "    <tr>\n",
       "      <th>unique</th>\n",
       "      <td>41</td>\n",
       "      <td>34</td>\n",
       "      <td>48</td>\n",
       "      <td>54</td>\n",
       "      <td>50</td>\n",
       "      <td>38</td>\n",
       "      <td>32</td>\n",
       "      <td>26</td>\n",
       "      <td>21</td>\n",
       "      <td>22</td>\n",
       "      <td>21</td>\n",
       "      <td>18</td>\n",
       "      <td>11</td>\n",
       "      <td>8</td>\n",
       "      <td>4</td>\n",
       "      <td>3</td>\n",
       "      <td>3</td>\n",
       "      <td>1</td>\n",
       "    </tr>\n",
       "    <tr>\n",
       "      <th>top</th>\n",
       "      <td>Fungal infection</td>\n",
       "      <td>vomiting</td>\n",
       "      <td>vomiting</td>\n",
       "      <td>fatigue</td>\n",
       "      <td>high fever</td>\n",
       "      <td>headache</td>\n",
       "      <td>nausea</td>\n",
       "      <td>abdominal pain</td>\n",
       "      <td>abdominal pain</td>\n",
       "      <td>yellowing of eyes</td>\n",
       "      <td>yellowing of eyes</td>\n",
       "      <td>irritability</td>\n",
       "      <td>malaise</td>\n",
       "      <td>muscle pain</td>\n",
       "      <td>chest pain</td>\n",
       "      <td>chest pain</td>\n",
       "      <td>blood in sputum</td>\n",
       "      <td>muscle pain</td>\n",
       "    </tr>\n",
       "    <tr>\n",
       "      <th>freq</th>\n",
       "      <td>120</td>\n",
       "      <td>822</td>\n",
       "      <td>870</td>\n",
       "      <td>726</td>\n",
       "      <td>378</td>\n",
       "      <td>348</td>\n",
       "      <td>390</td>\n",
       "      <td>264</td>\n",
       "      <td>276</td>\n",
       "      <td>228</td>\n",
       "      <td>198</td>\n",
       "      <td>120</td>\n",
       "      <td>126</td>\n",
       "      <td>72</td>\n",
       "      <td>96</td>\n",
       "      <td>144</td>\n",
       "      <td>72</td>\n",
       "      <td>72</td>\n",
       "    </tr>\n",
       "  </tbody>\n",
       "</table>\n",
       "</div>"
      ],
      "text/plain": [
       "                 Disease  Symptom_1  Symptom_2 Symptom_3    Symptom_4  \\\n",
       "count               4920       4920       4920      4920         4572   \n",
       "unique                41         34         48        54           50   \n",
       "top     Fungal infection   vomiting   vomiting   fatigue   high fever   \n",
       "freq                 120        822        870       726          378   \n",
       "\n",
       "        Symptom_5 Symptom_6        Symptom_7        Symptom_8  \\\n",
       "count        3714      2934             2268             1944   \n",
       "unique         38        32               26               21   \n",
       "top      headache    nausea   abdominal pain   abdominal pain   \n",
       "freq          348       390              264              276   \n",
       "\n",
       "                 Symptom_9          Symptom_10     Symptom_11 Symptom_12  \\\n",
       "count                 1692                1512           1194        744   \n",
       "unique                  22                  21             18         11   \n",
       "top      yellowing of eyes   yellowing of eyes   irritability    malaise   \n",
       "freq                   228                 198            120        126   \n",
       "\n",
       "          Symptom_13   Symptom_14   Symptom_15        Symptom_16    Symptom_17  \n",
       "count            504          306          240               192            72  \n",
       "unique             8            4            3                 3             1  \n",
       "top      muscle pain   chest pain   chest pain   blood in sputum   muscle pain  \n",
       "freq              72           96          144                72            72  "
      ]
     },
     "execution_count": 38,
     "metadata": {},
     "output_type": "execute_result"
    }
   ],
   "source": [
    "df.describe()"
   ]
  },
  {
   "cell_type": "markdown",
   "metadata": {
    "papermill": {
     "duration": 0.025542,
     "end_time": "2021-08-30T15:05:18.197707",
     "exception": false,
     "start_time": "2021-08-30T15:05:18.172165",
     "status": "completed"
    },
    "tags": []
   },
   "source": [
    "**Check for null and NaN values**"
   ]
  },
  {
   "cell_type": "code",
   "execution_count": 39,
   "metadata": {
    "execution": {
     "iopub.execute_input": "2022-12-30T16:36:26.782367Z",
     "iopub.status.busy": "2022-12-30T16:36:26.781695Z",
     "iopub.status.idle": "2022-12-30T16:36:26.80753Z",
     "shell.execute_reply": "2022-12-30T16:36:26.80617Z",
     "shell.execute_reply.started": "2022-12-30T16:36:26.782325Z"
    },
    "trusted": true
   },
   "outputs": [
    {
     "name": "stdout",
     "output_type": "stream",
     "text": [
      "            count\n",
      "Disease         0\n",
      "Symptom_1       0\n",
      "Symptom_2       0\n",
      "Symptom_3       0\n",
      "Symptom_4     348\n",
      "Symptom_5    1206\n",
      "Symptom_6    1986\n",
      "Symptom_7    2652\n",
      "Symptom_8    2976\n",
      "Symptom_9    3228\n",
      "Symptom_10   3408\n",
      "Symptom_11   3726\n",
      "Symptom_12   4176\n",
      "Symptom_13   4416\n",
      "Symptom_14   4614\n",
      "Symptom_15   4680\n",
      "Symptom_16   4728\n",
      "Symptom_17   4848\n"
     ]
    }
   ],
   "source": [
    "null_checker = df.apply(lambda x: sum(x.isnull())).to_frame(name='count')\n",
    "print(null_checker)"
   ]
  },
  {
   "cell_type": "code",
   "execution_count": 40,
   "metadata": {
    "execution": {
     "iopub.execute_input": "2022-12-30T16:36:26.809156Z",
     "iopub.status.busy": "2022-12-30T16:36:26.808802Z",
     "iopub.status.idle": "2022-12-30T16:36:27.094713Z",
     "shell.execute_reply": "2022-12-30T16:36:27.093304Z",
     "shell.execute_reply.started": "2022-12-30T16:36:26.809124Z"
    },
    "papermill": {
     "duration": 0.044062,
     "end_time": "2021-08-30T15:05:18.267712",
     "exception": false,
     "start_time": "2021-08-30T15:05:18.22365",
     "status": "completed"
    },
    "tags": [],
    "trusted": true
   },
   "outputs": [
    {
     "data": {
      "image/png": "[encoded data removed]",
      "text/plain": [
       "<Figure size 1000x500 with 1 Axes>"
      ]
     },
     "metadata": {},
     "output_type": "display_data"
    }
   ],
   "source": [
    "plt.figure(figsize=(10,5))\n",
    "plt.plot(null_checker.index, null_checker['count'])\n",
    "plt.xticks(null_checker.index, null_checker.index, rotation=45,\n",
    "horizontalalignment='right')\n",
    "plt.title('Before removing Null values')\n",
    "plt.xlabel('column names')\n",
    "plt.margins(0.1)\n",
    "plt.show()"
   ]
  },
  {
   "cell_type": "markdown",
   "metadata": {
    "papermill": {
     "duration": 0.026579,
     "end_time": "2021-08-30T15:05:18.393419",
     "exception": false,
     "start_time": "2021-08-30T15:05:18.36684",
     "status": "completed"
    },
    "tags": []
   },
   "source": [
    "**Remove the trailing space from the symptom columns**"
   ]
  },
  {
   "cell_type": "code",
   "execution_count": 41,
   "metadata": {
    "execution": {
     "iopub.execute_input": "2022-12-30T16:36:27.106794Z",
     "iopub.status.busy": "2022-12-30T16:36:27.10244Z",
     "iopub.status.idle": "2022-12-30T16:36:27.199655Z",
     "shell.execute_reply": "2022-12-30T16:36:27.198563Z",
     "shell.execute_reply.started": "2022-12-30T16:36:27.10671Z"
    },
    "papermill": {
     "duration": 0.097172,
     "end_time": "2021-08-30T15:05:18.517252",
     "exception": false,
     "start_time": "2021-08-30T15:05:18.42008",
     "status": "completed"
    },
    "tags": [],
    "trusted": true
   },
   "outputs": [
    {
     "data": {
      "text/html": [
       "<div>\n",
       "<style scoped>\n",
       "    .dataframe tbody tr th:only-of-type {\n",
       "        vertical-align: middle;\n",
       "    }\n",
       "\n",
       "    .dataframe tbody tr th {\n",
       "        vertical-align: top;\n",
       "    }\n",
       "\n",
       "    .dataframe thead th {\n",
       "        text-align: right;\n",
       "    }\n",
       "</style>\n",
       "<table border=\"1\" class=\"dataframe\">\n",
       "  <thead>\n",
       "    <tr style=\"text-align: right;\">\n",
       "      <th></th>\n",
       "      <th>Disease</th>\n",
       "      <th>Symptom_1</th>\n",
       "      <th>Symptom_2</th>\n",
       "      <th>Symptom_3</th>\n",
       "      <th>Symptom_4</th>\n",
       "      <th>Symptom_5</th>\n",
       "      <th>Symptom_6</th>\n",
       "      <th>Symptom_7</th>\n",
       "      <th>Symptom_8</th>\n",
       "      <th>Symptom_9</th>\n",
       "      <th>Symptom_10</th>\n",
       "      <th>Symptom_11</th>\n",
       "      <th>Symptom_12</th>\n",
       "      <th>Symptom_13</th>\n",
       "      <th>Symptom_14</th>\n",
       "      <th>Symptom_15</th>\n",
       "      <th>Symptom_16</th>\n",
       "      <th>Symptom_17</th>\n",
       "    </tr>\n",
       "  </thead>\n",
       "  <tbody>\n",
       "    <tr>\n",
       "      <th>0</th>\n",
       "      <td>Fungal infection</td>\n",
       "      <td>itching</td>\n",
       "      <td>skin rash</td>\n",
       "      <td>nodal skin eruptions</td>\n",
       "      <td>dischromic  patches</td>\n",
       "      <td>NaN</td>\n",
       "      <td>NaN</td>\n",
       "      <td>NaN</td>\n",
       "      <td>NaN</td>\n",
       "      <td>NaN</td>\n",
       "      <td>NaN</td>\n",
       "      <td>NaN</td>\n",
       "      <td>NaN</td>\n",
       "      <td>NaN</td>\n",
       "      <td>NaN</td>\n",
       "      <td>NaN</td>\n",
       "      <td>NaN</td>\n",
       "      <td>NaN</td>\n",
       "    </tr>\n",
       "    <tr>\n",
       "      <th>1</th>\n",
       "      <td>Fungal infection</td>\n",
       "      <td>skin rash</td>\n",
       "      <td>nodal skin eruptions</td>\n",
       "      <td>dischromic  patches</td>\n",
       "      <td>NaN</td>\n",
       "      <td>NaN</td>\n",
       "      <td>NaN</td>\n",
       "      <td>NaN</td>\n",
       "      <td>NaN</td>\n",
       "      <td>NaN</td>\n",
       "      <td>NaN</td>\n",
       "      <td>NaN</td>\n",
       "      <td>NaN</td>\n",
       "      <td>NaN</td>\n",
       "      <td>NaN</td>\n",
       "      <td>NaN</td>\n",
       "      <td>NaN</td>\n",
       "      <td>NaN</td>\n",
       "    </tr>\n",
       "    <tr>\n",
       "      <th>2</th>\n",
       "      <td>Fungal infection</td>\n",
       "      <td>itching</td>\n",
       "      <td>nodal skin eruptions</td>\n",
       "      <td>dischromic  patches</td>\n",
       "      <td>NaN</td>\n",
       "      <td>NaN</td>\n",
       "      <td>NaN</td>\n",
       "      <td>NaN</td>\n",
       "      <td>NaN</td>\n",
       "      <td>NaN</td>\n",
       "      <td>NaN</td>\n",
       "      <td>NaN</td>\n",
       "      <td>NaN</td>\n",
       "      <td>NaN</td>\n",
       "      <td>NaN</td>\n",
       "      <td>NaN</td>\n",
       "      <td>NaN</td>\n",
       "      <td>NaN</td>\n",
       "    </tr>\n",
       "    <tr>\n",
       "      <th>3</th>\n",
       "      <td>Fungal infection</td>\n",
       "      <td>itching</td>\n",
       "      <td>skin rash</td>\n",
       "      <td>dischromic  patches</td>\n",
       "      <td>NaN</td>\n",
       "      <td>NaN</td>\n",
       "      <td>NaN</td>\n",
       "      <td>NaN</td>\n",
       "      <td>NaN</td>\n",
       "      <td>NaN</td>\n",
       "      <td>NaN</td>\n",
       "      <td>NaN</td>\n",
       "      <td>NaN</td>\n",
       "      <td>NaN</td>\n",
       "      <td>NaN</td>\n",
       "      <td>NaN</td>\n",
       "      <td>NaN</td>\n",
       "      <td>NaN</td>\n",
       "    </tr>\n",
       "    <tr>\n",
       "      <th>4</th>\n",
       "      <td>Fungal infection</td>\n",
       "      <td>itching</td>\n",
       "      <td>skin rash</td>\n",
       "      <td>nodal skin eruptions</td>\n",
       "      <td>NaN</td>\n",
       "      <td>NaN</td>\n",
       "      <td>NaN</td>\n",
       "      <td>NaN</td>\n",
       "      <td>NaN</td>\n",
       "      <td>NaN</td>\n",
       "      <td>NaN</td>\n",
       "      <td>NaN</td>\n",
       "      <td>NaN</td>\n",
       "      <td>NaN</td>\n",
       "      <td>NaN</td>\n",
       "      <td>NaN</td>\n",
       "      <td>NaN</td>\n",
       "      <td>NaN</td>\n",
       "    </tr>\n",
       "  </tbody>\n",
       "</table>\n",
       "</div>"
      ],
      "text/plain": [
       "            Disease  Symptom_1             Symptom_2             Symptom_3  \\\n",
       "0  Fungal infection    itching             skin rash  nodal skin eruptions   \n",
       "1  Fungal infection  skin rash  nodal skin eruptions   dischromic  patches   \n",
       "2  Fungal infection    itching  nodal skin eruptions   dischromic  patches   \n",
       "3  Fungal infection    itching             skin rash   dischromic  patches   \n",
       "4  Fungal infection    itching             skin rash  nodal skin eruptions   \n",
       "\n",
       "             Symptom_4 Symptom_5 Symptom_6 Symptom_7 Symptom_8 Symptom_9  \\\n",
       "0  dischromic  patches       NaN       NaN       NaN       NaN       NaN   \n",
       "1                  NaN       NaN       NaN       NaN       NaN       NaN   \n",
       "2                  NaN       NaN       NaN       NaN       NaN       NaN   \n",
       "3                  NaN       NaN       NaN       NaN       NaN       NaN   \n",
       "4                  NaN       NaN       NaN       NaN       NaN       NaN   \n",
       "\n",
       "  Symptom_10 Symptom_11 Symptom_12 Symptom_13 Symptom_14 Symptom_15  \\\n",
       "0        NaN        NaN        NaN        NaN        NaN        NaN   \n",
       "1        NaN        NaN        NaN        NaN        NaN        NaN   \n",
       "2        NaN        NaN        NaN        NaN        NaN        NaN   \n",
       "3        NaN        NaN        NaN        NaN        NaN        NaN   \n",
       "4        NaN        NaN        NaN        NaN        NaN        NaN   \n",
       "\n",
       "  Symptom_16 Symptom_17  \n",
       "0        NaN        NaN  \n",
       "1        NaN        NaN  \n",
       "2        NaN        NaN  \n",
       "3        NaN        NaN  \n",
       "4        NaN        NaN  "
      ]
     },
     "execution_count": 41,
     "metadata": {},
     "output_type": "execute_result"
    }
   ],
   "source": [
    "cols = df.columns\n",
    "data = df[cols].values.flatten()\n",
    "\n",
    "s = pd.Series(data)\n",
    "s = s.str.strip()\n",
    "s = s.values.reshape(df.shape)\n",
    "\n",
    "df = pd.DataFrame(s, columns=df.columns)\n",
    "df.head()"
   ]
  },
  {
   "cell_type": "markdown",
   "metadata": {
    "papermill": {
     "duration": 0.027747,
     "end_time": "2021-08-30T15:05:18.57314",
     "exception": false,
     "start_time": "2021-08-30T15:05:18.545393",
     "status": "completed"
    },
    "tags": []
   },
   "source": [
    "**Fill the NaN values with zero**"
   ]
  },
  {
   "cell_type": "code",
   "execution_count": 42,
   "metadata": {
    "execution": {
     "iopub.execute_input": "2022-12-30T16:36:27.20135Z",
     "iopub.status.busy": "2022-12-30T16:36:27.200991Z",
     "iopub.status.idle": "2022-12-30T16:36:27.23357Z",
     "shell.execute_reply": "2022-12-30T16:36:27.232225Z",
     "shell.execute_reply.started": "2022-12-30T16:36:27.201318Z"
    },
    "papermill": {
     "duration": 0.066576,
     "end_time": "2021-08-30T15:05:18.667519",
     "exception": false,
     "start_time": "2021-08-30T15:05:18.600943",
     "status": "completed"
    },
    "tags": [],
    "trusted": true
   },
   "outputs": [
    {
     "data": {
      "text/html": [
       "<div>\n",
       "<style scoped>\n",
       "    .dataframe tbody tr th:only-of-type {\n",
       "        vertical-align: middle;\n",
       "    }\n",
       "\n",
       "    .dataframe tbody tr th {\n",
       "        vertical-align: top;\n",
       "    }\n",
       "\n",
       "    .dataframe thead th {\n",
       "        text-align: right;\n",
       "    }\n",
       "</style>\n",
       "<table border=\"1\" class=\"dataframe\">\n",
       "  <thead>\n",
       "    <tr style=\"text-align: right;\">\n",
       "      <th></th>\n",
       "      <th>Disease</th>\n",
       "      <th>Symptom_1</th>\n",
       "      <th>Symptom_2</th>\n",
       "      <th>Symptom_3</th>\n",
       "      <th>Symptom_4</th>\n",
       "      <th>Symptom_5</th>\n",
       "      <th>Symptom_6</th>\n",
       "      <th>Symptom_7</th>\n",
       "      <th>Symptom_8</th>\n",
       "      <th>Symptom_9</th>\n",
       "      <th>Symptom_10</th>\n",
       "      <th>Symptom_11</th>\n",
       "      <th>Symptom_12</th>\n",
       "      <th>Symptom_13</th>\n",
       "      <th>Symptom_14</th>\n",
       "      <th>Symptom_15</th>\n",
       "      <th>Symptom_16</th>\n",
       "      <th>Symptom_17</th>\n",
       "    </tr>\n",
       "  </thead>\n",
       "  <tbody>\n",
       "    <tr>\n",
       "      <th>0</th>\n",
       "      <td>Fungal infection</td>\n",
       "      <td>itching</td>\n",
       "      <td>skin rash</td>\n",
       "      <td>nodal skin eruptions</td>\n",
       "      <td>dischromic  patches</td>\n",
       "      <td>0</td>\n",
       "      <td>0</td>\n",
       "      <td>0</td>\n",
       "      <td>0</td>\n",
       "      <td>0</td>\n",
       "      <td>0</td>\n",
       "      <td>0</td>\n",
       "      <td>0</td>\n",
       "      <td>0</td>\n",
       "      <td>0</td>\n",
       "      <td>0</td>\n",
       "      <td>0</td>\n",
       "      <td>0</td>\n",
       "    </tr>\n",
       "    <tr>\n",
       "      <th>1</th>\n",
       "      <td>Fungal infection</td>\n",
       "      <td>skin rash</td>\n",
       "      <td>nodal skin eruptions</td>\n",
       "      <td>dischromic  patches</td>\n",
       "      <td>0</td>\n",
       "      <td>0</td>\n",
       "      <td>0</td>\n",
       "      <td>0</td>\n",
       "      <td>0</td>\n",
       "      <td>0</td>\n",
       "      <td>0</td>\n",
       "      <td>0</td>\n",
       "      <td>0</td>\n",
       "      <td>0</td>\n",
       "      <td>0</td>\n",
       "      <td>0</td>\n",
       "      <td>0</td>\n",
       "      <td>0</td>\n",
       "    </tr>\n",
       "    <tr>\n",
       "      <th>2</th>\n",
       "      <td>Fungal infection</td>\n",
       "      <td>itching</td>\n",
       "      <td>nodal skin eruptions</td>\n",
       "      <td>dischromic  patches</td>\n",
       "      <td>0</td>\n",
       "      <td>0</td>\n",
       "      <td>0</td>\n",
       "      <td>0</td>\n",
       "      <td>0</td>\n",
       "      <td>0</td>\n",
       "      <td>0</td>\n",
       "      <td>0</td>\n",
       "      <td>0</td>\n",
       "      <td>0</td>\n",
       "      <td>0</td>\n",
       "      <td>0</td>\n",
       "      <td>0</td>\n",
       "      <td>0</td>\n",
       "    </tr>\n",
       "    <tr>\n",
       "      <th>3</th>\n",
       "      <td>Fungal infection</td>\n",
       "      <td>itching</td>\n",
       "      <td>skin rash</td>\n",
       "      <td>dischromic  patches</td>\n",
       "      <td>0</td>\n",
       "      <td>0</td>\n",
       "      <td>0</td>\n",
       "      <td>0</td>\n",
       "      <td>0</td>\n",
       "      <td>0</td>\n",
       "      <td>0</td>\n",
       "      <td>0</td>\n",
       "      <td>0</td>\n",
       "      <td>0</td>\n",
       "      <td>0</td>\n",
       "      <td>0</td>\n",
       "      <td>0</td>\n",
       "      <td>0</td>\n",
       "    </tr>\n",
       "    <tr>\n",
       "      <th>4</th>\n",
       "      <td>Fungal infection</td>\n",
       "      <td>itching</td>\n",
       "      <td>skin rash</td>\n",
       "      <td>nodal skin eruptions</td>\n",
       "      <td>0</td>\n",
       "      <td>0</td>\n",
       "      <td>0</td>\n",
       "      <td>0</td>\n",
       "      <td>0</td>\n",
       "      <td>0</td>\n",
       "      <td>0</td>\n",
       "      <td>0</td>\n",
       "      <td>0</td>\n",
       "      <td>0</td>\n",
       "      <td>0</td>\n",
       "      <td>0</td>\n",
       "      <td>0</td>\n",
       "      <td>0</td>\n",
       "    </tr>\n",
       "  </tbody>\n",
       "</table>\n",
       "</div>"
      ],
      "text/plain": [
       "            Disease  Symptom_1             Symptom_2             Symptom_3  \\\n",
       "0  Fungal infection    itching             skin rash  nodal skin eruptions   \n",
       "1  Fungal infection  skin rash  nodal skin eruptions   dischromic  patches   \n",
       "2  Fungal infection    itching  nodal skin eruptions   dischromic  patches   \n",
       "3  Fungal infection    itching             skin rash   dischromic  patches   \n",
       "4  Fungal infection    itching             skin rash  nodal skin eruptions   \n",
       "\n",
       "             Symptom_4 Symptom_5 Symptom_6 Symptom_7 Symptom_8 Symptom_9  \\\n",
       "0  dischromic  patches         0         0         0         0         0   \n",
       "1                    0         0         0         0         0         0   \n",
       "2                    0         0         0         0         0         0   \n",
       "3                    0         0         0         0         0         0   \n",
       "4                    0         0         0         0         0         0   \n",
       "\n",
       "  Symptom_10 Symptom_11 Symptom_12 Symptom_13 Symptom_14 Symptom_15  \\\n",
       "0          0          0          0          0          0          0   \n",
       "1          0          0          0          0          0          0   \n",
       "2          0          0          0          0          0          0   \n",
       "3          0          0          0          0          0          0   \n",
       "4          0          0          0          0          0          0   \n",
       "\n",
       "  Symptom_16 Symptom_17  \n",
       "0          0          0  \n",
       "1          0          0  \n",
       "2          0          0  \n",
       "3          0          0  \n",
       "4          0          0  "
      ]
     },
     "execution_count": 42,
     "metadata": {},
     "output_type": "execute_result"
    }
   ],
   "source": [
    "df = df.fillna(0)\n",
    "df.head()"
   ]
  },
  {
   "cell_type": "markdown",
   "metadata": {
    "papermill": {
     "duration": 0.027881,
     "end_time": "2021-08-30T15:05:18.7235",
     "exception": false,
     "start_time": "2021-08-30T15:05:18.695619",
     "status": "completed"
    },
    "tags": []
   },
   "source": [
    "**Symptom severity rank**"
   ]
  },
  {
   "cell_type": "code",
   "execution_count": 43,
   "metadata": {
    "execution": {
     "iopub.execute_input": "2022-12-30T16:36:27.237382Z",
     "iopub.status.busy": "2022-12-30T16:36:27.236955Z",
     "iopub.status.idle": "2022-12-30T16:36:27.252318Z",
     "shell.execute_reply": "2022-12-30T16:36:27.251153Z",
     "shell.execute_reply.started": "2022-12-30T16:36:27.237345Z"
    },
    "papermill": {
     "duration": 0.04616,
     "end_time": "2021-08-30T15:05:18.797645",
     "exception": false,
     "start_time": "2021-08-30T15:05:18.751485",
     "status": "completed"
    },
    "tags": [],
    "trusted": true
   },
   "outputs": [
    {
     "data": {
      "text/html": [
       "<div>\n",
       "<style scoped>\n",
       "    .dataframe tbody tr th:only-of-type {\n",
       "        vertical-align: middle;\n",
       "    }\n",
       "\n",
       "    .dataframe tbody tr th {\n",
       "        vertical-align: top;\n",
       "    }\n",
       "\n",
       "    .dataframe thead th {\n",
       "        text-align: right;\n",
       "    }\n",
       "</style>\n",
       "<table border=\"1\" class=\"dataframe\">\n",
       "  <thead>\n",
       "    <tr style=\"text-align: right;\">\n",
       "      <th></th>\n",
       "      <th>Symptom</th>\n",
       "      <th>weight</th>\n",
       "    </tr>\n",
       "  </thead>\n",
       "  <tbody>\n",
       "    <tr>\n",
       "      <th>0</th>\n",
       "      <td>itching</td>\n",
       "      <td>1</td>\n",
       "    </tr>\n",
       "    <tr>\n",
       "      <th>1</th>\n",
       "      <td>skin rash</td>\n",
       "      <td>3</td>\n",
       "    </tr>\n",
       "    <tr>\n",
       "      <th>2</th>\n",
       "      <td>nodal skin eruptions</td>\n",
       "      <td>4</td>\n",
       "    </tr>\n",
       "    <tr>\n",
       "      <th>3</th>\n",
       "      <td>continuous sneezing</td>\n",
       "      <td>4</td>\n",
       "    </tr>\n",
       "    <tr>\n",
       "      <th>4</th>\n",
       "      <td>shivering</td>\n",
       "      <td>5</td>\n",
       "    </tr>\n",
       "  </tbody>\n",
       "</table>\n",
       "</div>"
      ],
      "text/plain": [
       "                Symptom  weight\n",
       "0               itching       1\n",
       "1             skin rash       3\n",
       "2  nodal skin eruptions       4\n",
       "3   continuous sneezing       4\n",
       "4             shivering       5"
      ]
     },
     "execution_count": 43,
     "metadata": {},
     "output_type": "execute_result"
    }
   ],
   "source": [
    "df1 = pd.read_csv('/Users/Lenovo/Desktop/second year/prj1 dataset/Symptom-severity.csv')\n",
    "df1['Symptom'] = df1['Symptom'].str.replace('_',' ')\n",
    "df1.head()"
   ]
  },
  {
   "cell_type": "markdown",
   "metadata": {
    "papermill": {
     "duration": 0.028392,
     "end_time": "2021-08-30T15:05:18.854505",
     "exception": false,
     "start_time": "2021-08-30T15:05:18.826113",
     "status": "completed"
    },
    "tags": []
   },
   "source": [
    "**Get overall list of symptoms**"
   ]
  },
  {
   "cell_type": "code",
   "execution_count": 44,
   "metadata": {
    "execution": {
     "iopub.execute_input": "2022-12-30T16:36:27.254046Z",
     "iopub.status.busy": "2022-12-30T16:36:27.253719Z",
     "iopub.status.idle": "2022-12-30T16:36:27.261801Z",
     "shell.execute_reply": "2022-12-30T16:36:27.260747Z",
     "shell.execute_reply.started": "2022-12-30T16:36:27.254015Z"
    },
    "papermill": {
     "duration": 0.039041,
     "end_time": "2021-08-30T15:05:18.92221",
     "exception": false,
     "start_time": "2021-08-30T15:05:18.883169",
     "status": "completed"
    },
    "tags": [],
    "trusted": true
   },
   "outputs": [
    {
     "data": {
      "text/plain": [
       "array(['itching', 'skin rash', 'nodal skin eruptions',\n",
       "       'continuous sneezing', 'shivering', 'chills', 'joint pain',\n",
       "       'stomach pain', 'acidity', 'ulcers on tongue', 'muscle wasting',\n",
       "       'vomiting', 'burning micturition', 'spotting urination', 'fatigue',\n",
       "       'weight gain', 'anxiety', 'cold hands and feets', 'mood swings',\n",
       "       'weight loss', 'restlessness', 'lethargy', 'patches in throat',\n",
       "       'irregular sugar level', 'cough', 'high fever', 'sunken eyes',\n",
       "       'breathlessness', 'sweating', 'dehydration', 'indigestion',\n",
       "       'headache', 'yellowish skin', 'dark urine', 'nausea',\n",
       "       'loss of appetite', 'pain behind the eyes', 'back pain',\n",
       "       'constipation', 'abdominal pain', 'diarrhoea', 'mild fever',\n",
       "       'yellow urine', 'yellowing of eyes', 'acute liver failure',\n",
       "       'fluid overload', 'swelling of stomach', 'swelled lymph nodes',\n",
       "       'malaise', 'blurred and distorted vision', 'phlegm',\n",
       "       'throat irritation', 'redness of eyes', 'sinus pressure',\n",
       "       'runny nose', 'congestion', 'chest pain', 'weakness in limbs',\n",
       "       'fast heart rate', 'pain during bowel movements',\n",
       "       'pain in anal region', 'bloody stool', 'irritation in anus',\n",
       "       'neck pain', 'dizziness', 'cramps', 'bruising', 'obesity',\n",
       "       'swollen legs', 'swollen blood vessels', 'puffy face and eyes',\n",
       "       'enlarged thyroid', 'brittle nails', 'swollen extremeties',\n",
       "       'excessive hunger', 'extra marital contacts',\n",
       "       'drying and tingling lips', 'slurred speech', 'knee pain',\n",
       "       'hip joint pain', 'muscle weakness', 'stiff neck',\n",
       "       'swelling joints', 'movement stiffness', 'spinning movements',\n",
       "       'loss of balance', 'unsteadiness', 'weakness of one body side',\n",
       "       'loss of smell', 'bladder discomfort', 'foul smell ofurine',\n",
       "       'continuous feel of urine', 'passage of gases', 'internal itching',\n",
       "       'toxic look (typhos)', 'depression', 'irritability', 'muscle pain',\n",
       "       'altered sensorium', 'red spots over body', 'belly pain',\n",
       "       'abnormal menstruation', 'dischromic patches',\n",
       "       'watering from eyes', 'increased appetite', 'polyuria',\n",
       "       'family history', 'mucoid sputum', 'rusty sputum',\n",
       "       'lack of concentration', 'visual disturbances',\n",
       "       'receiving blood transfusion', 'receiving unsterile injections',\n",
       "       'coma', 'stomach bleeding', 'distention of abdomen',\n",
       "       'history of alcohol consumption', 'blood in sputum',\n",
       "       'prominent veins on calf', 'palpitations', 'painful walking',\n",
       "       'pus filled pimples', 'blackheads', 'scurring', 'skin peeling',\n",
       "       'silver like dusting', 'small dents in nails',\n",
       "       'inflammatory nails', 'blister', 'red sore around nose',\n",
       "       'yellow crust ooze', 'prognosis'], dtype=object)"
      ]
     },
     "execution_count": 44,
     "metadata": {},
     "output_type": "execute_result"
    }
   ],
   "source": [
    "df1['Symptom'].unique()"
   ]
  },
  {
   "cell_type": "markdown",
   "metadata": {
    "papermill": {
     "duration": 0.029149,
     "end_time": "2021-08-30T15:05:18.980116",
     "exception": false,
     "start_time": "2021-08-30T15:05:18.950967",
     "status": "completed"
    },
    "tags": []
   },
   "source": [
    "**Encode symptoms in the data with the symptom rank**"
   ]
  },
  {
   "cell_type": "code",
   "execution_count": 45,
   "metadata": {
    "execution": {
     "iopub.execute_input": "2022-12-30T16:36:27.263808Z",
     "iopub.status.busy": "2022-12-30T16:36:27.263351Z",
     "iopub.status.idle": "2022-12-30T16:36:31.578157Z",
     "shell.execute_reply": "2022-12-30T16:36:31.576896Z",
     "shell.execute_reply.started": "2022-12-30T16:36:27.263755Z"
    },
    "papermill": {
     "duration": 0.689792,
     "end_time": "2021-08-30T15:05:19.699129",
     "exception": false,
     "start_time": "2021-08-30T15:05:19.009337",
     "status": "completed"
    },
    "tags": [],
    "trusted": true
   },
   "outputs": [
    {
     "data": {
      "text/html": [
       "<div>\n",
       "<style scoped>\n",
       "    .dataframe tbody tr th:only-of-type {\n",
       "        vertical-align: middle;\n",
       "    }\n",
       "\n",
       "    .dataframe tbody tr th {\n",
       "        vertical-align: top;\n",
       "    }\n",
       "\n",
       "    .dataframe thead th {\n",
       "        text-align: right;\n",
       "    }\n",
       "</style>\n",
       "<table border=\"1\" class=\"dataframe\">\n",
       "  <thead>\n",
       "    <tr style=\"text-align: right;\">\n",
       "      <th></th>\n",
       "      <th>Disease</th>\n",
       "      <th>Symptom_1</th>\n",
       "      <th>Symptom_2</th>\n",
       "      <th>Symptom_3</th>\n",
       "      <th>Symptom_4</th>\n",
       "      <th>Symptom_5</th>\n",
       "      <th>Symptom_6</th>\n",
       "      <th>Symptom_7</th>\n",
       "      <th>Symptom_8</th>\n",
       "      <th>Symptom_9</th>\n",
       "      <th>Symptom_10</th>\n",
       "      <th>Symptom_11</th>\n",
       "      <th>Symptom_12</th>\n",
       "      <th>Symptom_13</th>\n",
       "      <th>Symptom_14</th>\n",
       "      <th>Symptom_15</th>\n",
       "      <th>Symptom_16</th>\n",
       "      <th>Symptom_17</th>\n",
       "    </tr>\n",
       "  </thead>\n",
       "  <tbody>\n",
       "    <tr>\n",
       "      <th>0</th>\n",
       "      <td>Fungal infection</td>\n",
       "      <td>1</td>\n",
       "      <td>3</td>\n",
       "      <td>4</td>\n",
       "      <td>dischromic  patches</td>\n",
       "      <td>0</td>\n",
       "      <td>0</td>\n",
       "      <td>0</td>\n",
       "      <td>0</td>\n",
       "      <td>0</td>\n",
       "      <td>0</td>\n",
       "      <td>0</td>\n",
       "      <td>0</td>\n",
       "      <td>0</td>\n",
       "      <td>0</td>\n",
       "      <td>0</td>\n",
       "      <td>0</td>\n",
       "      <td>0</td>\n",
       "    </tr>\n",
       "    <tr>\n",
       "      <th>1</th>\n",
       "      <td>Fungal infection</td>\n",
       "      <td>3</td>\n",
       "      <td>4</td>\n",
       "      <td>dischromic  patches</td>\n",
       "      <td>0</td>\n",
       "      <td>0</td>\n",
       "      <td>0</td>\n",
       "      <td>0</td>\n",
       "      <td>0</td>\n",
       "      <td>0</td>\n",
       "      <td>0</td>\n",
       "      <td>0</td>\n",
       "      <td>0</td>\n",
       "      <td>0</td>\n",
       "      <td>0</td>\n",
       "      <td>0</td>\n",
       "      <td>0</td>\n",
       "      <td>0</td>\n",
       "    </tr>\n",
       "    <tr>\n",
       "      <th>2</th>\n",
       "      <td>Fungal infection</td>\n",
       "      <td>1</td>\n",
       "      <td>4</td>\n",
       "      <td>dischromic  patches</td>\n",
       "      <td>0</td>\n",
       "      <td>0</td>\n",
       "      <td>0</td>\n",
       "      <td>0</td>\n",
       "      <td>0</td>\n",
       "      <td>0</td>\n",
       "      <td>0</td>\n",
       "      <td>0</td>\n",
       "      <td>0</td>\n",
       "      <td>0</td>\n",
       "      <td>0</td>\n",
       "      <td>0</td>\n",
       "      <td>0</td>\n",
       "      <td>0</td>\n",
       "    </tr>\n",
       "    <tr>\n",
       "      <th>3</th>\n",
       "      <td>Fungal infection</td>\n",
       "      <td>1</td>\n",
       "      <td>3</td>\n",
       "      <td>dischromic  patches</td>\n",
       "      <td>0</td>\n",
       "      <td>0</td>\n",
       "      <td>0</td>\n",
       "      <td>0</td>\n",
       "      <td>0</td>\n",
       "      <td>0</td>\n",
       "      <td>0</td>\n",
       "      <td>0</td>\n",
       "      <td>0</td>\n",
       "      <td>0</td>\n",
       "      <td>0</td>\n",
       "      <td>0</td>\n",
       "      <td>0</td>\n",
       "      <td>0</td>\n",
       "    </tr>\n",
       "    <tr>\n",
       "      <th>4</th>\n",
       "      <td>Fungal infection</td>\n",
       "      <td>1</td>\n",
       "      <td>3</td>\n",
       "      <td>4</td>\n",
       "      <td>0</td>\n",
       "      <td>0</td>\n",
       "      <td>0</td>\n",
       "      <td>0</td>\n",
       "      <td>0</td>\n",
       "      <td>0</td>\n",
       "      <td>0</td>\n",
       "      <td>0</td>\n",
       "      <td>0</td>\n",
       "      <td>0</td>\n",
       "      <td>0</td>\n",
       "      <td>0</td>\n",
       "      <td>0</td>\n",
       "      <td>0</td>\n",
       "    </tr>\n",
       "  </tbody>\n",
       "</table>\n",
       "</div>"
      ],
      "text/plain": [
       "            Disease Symptom_1 Symptom_2            Symptom_3  \\\n",
       "0  Fungal infection         1         3                    4   \n",
       "1  Fungal infection         3         4  dischromic  patches   \n",
       "2  Fungal infection         1         4  dischromic  patches   \n",
       "3  Fungal infection         1         3  dischromic  patches   \n",
       "4  Fungal infection         1         3                    4   \n",
       "\n",
       "             Symptom_4 Symptom_5 Symptom_6 Symptom_7 Symptom_8 Symptom_9  \\\n",
       "0  dischromic  patches         0         0         0         0         0   \n",
       "1                    0         0         0         0         0         0   \n",
       "2                    0         0         0         0         0         0   \n",
       "3                    0         0         0         0         0         0   \n",
       "4                    0         0         0         0         0         0   \n",
       "\n",
       "  Symptom_10 Symptom_11 Symptom_12 Symptom_13 Symptom_14 Symptom_15  \\\n",
       "0          0          0          0          0          0          0   \n",
       "1          0          0          0          0          0          0   \n",
       "2          0          0          0          0          0          0   \n",
       "3          0          0          0          0          0          0   \n",
       "4          0          0          0          0          0          0   \n",
       "\n",
       "  Symptom_16 Symptom_17  \n",
       "0          0          0  \n",
       "1          0          0  \n",
       "2          0          0  \n",
       "3          0          0  \n",
       "4          0          0  "
      ]
     },
     "execution_count": 45,
     "metadata": {},
     "output_type": "execute_result"
    }
   ],
   "source": [
    "vals = df.values\n",
    "symptoms = df1['Symptom'].unique()\n",
    "\n",
    "for i in range(len(symptoms)):\n",
    "    vals[vals == symptoms[i]] = df1[df1['Symptom'] == symptoms[i]]['weight'].values[0]\n",
    "    \n",
    "d = pd.DataFrame(vals, columns=cols)\n",
    "d.head()"
   ]
  },
  {
   "cell_type": "markdown",
   "metadata": {
    "papermill": {
     "duration": 0.029325,
     "end_time": "2021-08-30T15:05:19.757938",
     "exception": false,
     "start_time": "2021-08-30T15:05:19.728613",
     "status": "completed"
    },
    "tags": []
   },
   "source": [
    "**Assign symptoms with no rank to zero**"
   ]
  },
  {
   "cell_type": "code",
   "execution_count": 46,
   "metadata": {
    "execution": {
     "iopub.execute_input": "2022-12-30T16:36:31.580151Z",
     "iopub.status.busy": "2022-12-30T16:36:31.57979Z",
     "iopub.status.idle": "2022-12-30T16:36:31.708685Z",
     "shell.execute_reply": "2022-12-30T16:36:31.707468Z",
     "shell.execute_reply.started": "2022-12-30T16:36:31.580109Z"
    },
    "papermill": {
     "duration": 0.100573,
     "end_time": "2021-08-30T15:05:19.888131",
     "exception": false,
     "start_time": "2021-08-30T15:05:19.787558",
     "status": "completed"
    },
    "tags": [],
    "trusted": true
   },
   "outputs": [
    {
     "name": "stderr",
     "output_type": "stream",
     "text": [
      "/var/folders/dr/5832qf191n3cpbfdp95yqc700000gn/T/ipykernel_40664/969436745.py:1: FutureWarning: Downcasting behavior in `replace` is deprecated and will be removed in a future version. To retain the old behavior, explicitly call `result.infer_objects(copy=False)`. To opt-in to the future behavior, set `pd.set_option('future.no_silent_downcasting', True)`\n",
      "  d = d.replace('dischromic  patches', 0)\n",
      "/var/folders/dr/5832qf191n3cpbfdp95yqc700000gn/T/ipykernel_40664/969436745.py:2: FutureWarning: Downcasting behavior in `replace` is deprecated and will be removed in a future version. To retain the old behavior, explicitly call `result.infer_objects(copy=False)`. To opt-in to the future behavior, set `pd.set_option('future.no_silent_downcasting', True)`\n",
      "  d = d.replace('spotting  urination',0)\n",
      "/var/folders/dr/5832qf191n3cpbfdp95yqc700000gn/T/ipykernel_40664/969436745.py:3: FutureWarning: Downcasting behavior in `replace` is deprecated and will be removed in a future version. To retain the old behavior, explicitly call `result.infer_objects(copy=False)`. To opt-in to the future behavior, set `pd.set_option('future.no_silent_downcasting', True)`\n",
      "  df = d.replace('foul smell of urine',0)\n"
     ]
    },
    {
     "data": {
      "text/html": [
       "<div>\n",
       "<style scoped>\n",
       "    .dataframe tbody tr th:only-of-type {\n",
       "        vertical-align: middle;\n",
       "    }\n",
       "\n",
       "    .dataframe tbody tr th {\n",
       "        vertical-align: top;\n",
       "    }\n",
       "\n",
       "    .dataframe thead th {\n",
       "        text-align: right;\n",
       "    }\n",
       "</style>\n",
       "<table border=\"1\" class=\"dataframe\">\n",
       "  <thead>\n",
       "    <tr style=\"text-align: right;\">\n",
       "      <th></th>\n",
       "      <th>Disease</th>\n",
       "      <th>Symptom_1</th>\n",
       "      <th>Symptom_2</th>\n",
       "      <th>Symptom_3</th>\n",
       "      <th>Symptom_4</th>\n",
       "      <th>Symptom_5</th>\n",
       "      <th>Symptom_6</th>\n",
       "      <th>Symptom_7</th>\n",
       "      <th>Symptom_8</th>\n",
       "      <th>Symptom_9</th>\n",
       "      <th>Symptom_10</th>\n",
       "      <th>Symptom_11</th>\n",
       "      <th>Symptom_12</th>\n",
       "      <th>Symptom_13</th>\n",
       "      <th>Symptom_14</th>\n",
       "      <th>Symptom_15</th>\n",
       "      <th>Symptom_16</th>\n",
       "      <th>Symptom_17</th>\n",
       "    </tr>\n",
       "  </thead>\n",
       "  <tbody>\n",
       "    <tr>\n",
       "      <th>0</th>\n",
       "      <td>Fungal infection</td>\n",
       "      <td>1</td>\n",
       "      <td>3</td>\n",
       "      <td>4</td>\n",
       "      <td>0</td>\n",
       "      <td>0</td>\n",
       "      <td>0</td>\n",
       "      <td>0</td>\n",
       "      <td>0</td>\n",
       "      <td>0</td>\n",
       "      <td>0</td>\n",
       "      <td>0</td>\n",
       "      <td>0</td>\n",
       "      <td>0</td>\n",
       "      <td>0</td>\n",
       "      <td>0</td>\n",
       "      <td>0</td>\n",
       "      <td>0</td>\n",
       "    </tr>\n",
       "    <tr>\n",
       "      <th>1</th>\n",
       "      <td>Fungal infection</td>\n",
       "      <td>3</td>\n",
       "      <td>4</td>\n",
       "      <td>0</td>\n",
       "      <td>0</td>\n",
       "      <td>0</td>\n",
       "      <td>0</td>\n",
       "      <td>0</td>\n",
       "      <td>0</td>\n",
       "      <td>0</td>\n",
       "      <td>0</td>\n",
       "      <td>0</td>\n",
       "      <td>0</td>\n",
       "      <td>0</td>\n",
       "      <td>0</td>\n",
       "      <td>0</td>\n",
       "      <td>0</td>\n",
       "      <td>0</td>\n",
       "    </tr>\n",
       "    <tr>\n",
       "      <th>2</th>\n",
       "      <td>Fungal infection</td>\n",
       "      <td>1</td>\n",
       "      <td>4</td>\n",
       "      <td>0</td>\n",
       "      <td>0</td>\n",
       "      <td>0</td>\n",
       "      <td>0</td>\n",
       "      <td>0</td>\n",
       "      <td>0</td>\n",
       "      <td>0</td>\n",
       "      <td>0</td>\n",
       "      <td>0</td>\n",
       "      <td>0</td>\n",
       "      <td>0</td>\n",
       "      <td>0</td>\n",
       "      <td>0</td>\n",
       "      <td>0</td>\n",
       "      <td>0</td>\n",
       "    </tr>\n",
       "    <tr>\n",
       "      <th>3</th>\n",
       "      <td>Fungal infection</td>\n",
       "      <td>1</td>\n",
       "      <td>3</td>\n",
       "      <td>0</td>\n",
       "      <td>0</td>\n",
       "      <td>0</td>\n",
       "      <td>0</td>\n",
       "      <td>0</td>\n",
       "      <td>0</td>\n",
       "      <td>0</td>\n",
       "      <td>0</td>\n",
       "      <td>0</td>\n",
       "      <td>0</td>\n",
       "      <td>0</td>\n",
       "      <td>0</td>\n",
       "      <td>0</td>\n",
       "      <td>0</td>\n",
       "      <td>0</td>\n",
       "    </tr>\n",
       "    <tr>\n",
       "      <th>4</th>\n",
       "      <td>Fungal infection</td>\n",
       "      <td>1</td>\n",
       "      <td>3</td>\n",
       "      <td>4</td>\n",
       "      <td>0</td>\n",
       "      <td>0</td>\n",
       "      <td>0</td>\n",
       "      <td>0</td>\n",
       "      <td>0</td>\n",
       "      <td>0</td>\n",
       "      <td>0</td>\n",
       "      <td>0</td>\n",
       "      <td>0</td>\n",
       "      <td>0</td>\n",
       "      <td>0</td>\n",
       "      <td>0</td>\n",
       "      <td>0</td>\n",
       "      <td>0</td>\n",
       "    </tr>\n",
       "    <tr>\n",
       "      <th>5</th>\n",
       "      <td>Fungal infection</td>\n",
       "      <td>3</td>\n",
       "      <td>4</td>\n",
       "      <td>0</td>\n",
       "      <td>0</td>\n",
       "      <td>0</td>\n",
       "      <td>0</td>\n",
       "      <td>0</td>\n",
       "      <td>0</td>\n",
       "      <td>0</td>\n",
       "      <td>0</td>\n",
       "      <td>0</td>\n",
       "      <td>0</td>\n",
       "      <td>0</td>\n",
       "      <td>0</td>\n",
       "      <td>0</td>\n",
       "      <td>0</td>\n",
       "      <td>0</td>\n",
       "    </tr>\n",
       "    <tr>\n",
       "      <th>6</th>\n",
       "      <td>Fungal infection</td>\n",
       "      <td>1</td>\n",
       "      <td>4</td>\n",
       "      <td>0</td>\n",
       "      <td>0</td>\n",
       "      <td>0</td>\n",
       "      <td>0</td>\n",
       "      <td>0</td>\n",
       "      <td>0</td>\n",
       "      <td>0</td>\n",
       "      <td>0</td>\n",
       "      <td>0</td>\n",
       "      <td>0</td>\n",
       "      <td>0</td>\n",
       "      <td>0</td>\n",
       "      <td>0</td>\n",
       "      <td>0</td>\n",
       "      <td>0</td>\n",
       "    </tr>\n",
       "    <tr>\n",
       "      <th>7</th>\n",
       "      <td>Fungal infection</td>\n",
       "      <td>1</td>\n",
       "      <td>3</td>\n",
       "      <td>0</td>\n",
       "      <td>0</td>\n",
       "      <td>0</td>\n",
       "      <td>0</td>\n",
       "      <td>0</td>\n",
       "      <td>0</td>\n",
       "      <td>0</td>\n",
       "      <td>0</td>\n",
       "      <td>0</td>\n",
       "      <td>0</td>\n",
       "      <td>0</td>\n",
       "      <td>0</td>\n",
       "      <td>0</td>\n",
       "      <td>0</td>\n",
       "      <td>0</td>\n",
       "    </tr>\n",
       "    <tr>\n",
       "      <th>8</th>\n",
       "      <td>Fungal infection</td>\n",
       "      <td>1</td>\n",
       "      <td>3</td>\n",
       "      <td>4</td>\n",
       "      <td>0</td>\n",
       "      <td>0</td>\n",
       "      <td>0</td>\n",
       "      <td>0</td>\n",
       "      <td>0</td>\n",
       "      <td>0</td>\n",
       "      <td>0</td>\n",
       "      <td>0</td>\n",
       "      <td>0</td>\n",
       "      <td>0</td>\n",
       "      <td>0</td>\n",
       "      <td>0</td>\n",
       "      <td>0</td>\n",
       "      <td>0</td>\n",
       "    </tr>\n",
       "    <tr>\n",
       "      <th>9</th>\n",
       "      <td>Fungal infection</td>\n",
       "      <td>1</td>\n",
       "      <td>3</td>\n",
       "      <td>4</td>\n",
       "      <td>0</td>\n",
       "      <td>0</td>\n",
       "      <td>0</td>\n",
       "      <td>0</td>\n",
       "      <td>0</td>\n",
       "      <td>0</td>\n",
       "      <td>0</td>\n",
       "      <td>0</td>\n",
       "      <td>0</td>\n",
       "      <td>0</td>\n",
       "      <td>0</td>\n",
       "      <td>0</td>\n",
       "      <td>0</td>\n",
       "      <td>0</td>\n",
       "    </tr>\n",
       "  </tbody>\n",
       "</table>\n",
       "</div>"
      ],
      "text/plain": [
       "            Disease  Symptom_1  Symptom_2  Symptom_3  Symptom_4  Symptom_5  \\\n",
       "0  Fungal infection          1          3          4          0          0   \n",
       "1  Fungal infection          3          4          0          0          0   \n",
       "2  Fungal infection          1          4          0          0          0   \n",
       "3  Fungal infection          1          3          0          0          0   \n",
       "4  Fungal infection          1          3          4          0          0   \n",
       "5  Fungal infection          3          4          0          0          0   \n",
       "6  Fungal infection          1          4          0          0          0   \n",
       "7  Fungal infection          1          3          0          0          0   \n",
       "8  Fungal infection          1          3          4          0          0   \n",
       "9  Fungal infection          1          3          4          0          0   \n",
       "\n",
       "   Symptom_6  Symptom_7  Symptom_8  Symptom_9  Symptom_10  Symptom_11  \\\n",
       "0          0          0          0          0           0           0   \n",
       "1          0          0          0          0           0           0   \n",
       "2          0          0          0          0           0           0   \n",
       "3          0          0          0          0           0           0   \n",
       "4          0          0          0          0           0           0   \n",
       "5          0          0          0          0           0           0   \n",
       "6          0          0          0          0           0           0   \n",
       "7          0          0          0          0           0           0   \n",
       "8          0          0          0          0           0           0   \n",
       "9          0          0          0          0           0           0   \n",
       "\n",
       "   Symptom_12  Symptom_13  Symptom_14  Symptom_15  Symptom_16  Symptom_17  \n",
       "0           0           0           0           0           0           0  \n",
       "1           0           0           0           0           0           0  \n",
       "2           0           0           0           0           0           0  \n",
       "3           0           0           0           0           0           0  \n",
       "4           0           0           0           0           0           0  \n",
       "5           0           0           0           0           0           0  \n",
       "6           0           0           0           0           0           0  \n",
       "7           0           0           0           0           0           0  \n",
       "8           0           0           0           0           0           0  \n",
       "9           0           0           0           0           0           0  "
      ]
     },
     "execution_count": 46,
     "metadata": {},
     "output_type": "execute_result"
    }
   ],
   "source": [
    "d = d.replace('dischromic  patches', 0)\n",
    "d = d.replace('spotting  urination',0)\n",
    "df = d.replace('foul smell of urine',0)\n",
    "df.head(10)"
   ]
  },
  {
   "cell_type": "markdown",
   "metadata": {
    "papermill": {
     "duration": 0.02973,
     "end_time": "2021-08-30T15:05:19.948081",
     "exception": false,
     "start_time": "2021-08-30T15:05:19.918351",
     "status": "completed"
    },
    "tags": []
   },
   "source": [
    "**Check if entire columns have zero values so we can drop those values**"
   ]
  },
  {
   "cell_type": "code",
   "execution_count": 47,
   "metadata": {
    "execution": {
     "iopub.execute_input": "2022-12-30T16:36:31.71103Z",
     "iopub.status.busy": "2022-12-30T16:36:31.710168Z",
     "iopub.status.idle": "2022-12-30T16:36:31.730574Z",
     "shell.execute_reply": "2022-12-30T16:36:31.729477Z",
     "shell.execute_reply.started": "2022-12-30T16:36:31.710996Z"
    },
    "papermill": {
     "duration": 0.046686,
     "end_time": "2021-08-30T15:05:20.024958",
     "exception": false,
     "start_time": "2021-08-30T15:05:19.978272",
     "status": "completed"
    },
    "tags": [],
    "trusted": true
   },
   "outputs": [
    {
     "name": "stdout",
     "output_type": "stream",
     "text": [
      "            count\n",
      "Disease         0\n",
      "Symptom_1       0\n",
      "Symptom_2       0\n",
      "Symptom_3       0\n",
      "Symptom_4       0\n",
      "Symptom_5       0\n",
      "Symptom_6       0\n",
      "Symptom_7       0\n",
      "Symptom_8       0\n",
      "Symptom_9       0\n",
      "Symptom_10      0\n",
      "Symptom_11      0\n",
      "Symptom_12      0\n",
      "Symptom_13      0\n",
      "Symptom_14      0\n",
      "Symptom_15      0\n",
      "Symptom_16      0\n",
      "Symptom_17      0\n"
     ]
    }
   ],
   "source": [
    "null_checker = df.apply(lambda x: sum(x.isnull())).to_frame(name='count')\n",
    "print(null_checker)"
   ]
  },
  {
   "cell_type": "code",
   "execution_count": 48,
   "metadata": {
    "execution": {
     "iopub.execute_input": "2022-12-30T16:36:31.732576Z",
     "iopub.status.busy": "2022-12-30T16:36:31.732266Z",
     "iopub.status.idle": "2022-12-30T16:36:31.85283Z",
     "shell.execute_reply": "2022-12-30T16:36:31.850953Z",
     "shell.execute_reply.started": "2022-12-30T16:36:31.732548Z"
    },
    "trusted": true
   },
   "outputs": [
    {
     "data": {
      "image/png": "[encoded data removed]",
      "text/plain": [
       "<Figure size 1000x500 with 1 Axes>"
      ]
     },
     "metadata": {},
     "output_type": "display_data"
    }
   ],
   "source": [
    "plt.figure(figsize=(10,5))\n",
    "plt.plot(null_checker.index, null_checker['count'])\n",
    "plt.xticks(null_checker.index, null_checker.index, rotation=45,\n",
    "horizontalalignment='right')\n",
    "plt.title('After removing Null values')\n",
    "plt.xlabel('column names')\n",
    "plt.margins(0.01)\n",
    "plt.show()"
   ]
  },
  {
   "cell_type": "code",
   "execution_count": 49,
   "metadata": {
    "execution": {
     "iopub.execute_input": "2022-12-30T16:36:31.855969Z",
     "iopub.status.busy": "2022-12-30T16:36:31.85537Z",
     "iopub.status.idle": "2022-12-30T16:36:31.872672Z",
     "shell.execute_reply": "2022-12-30T16:36:31.869856Z",
     "shell.execute_reply.started": "2022-12-30T16:36:31.855912Z"
    },
    "trusted": true
   },
   "outputs": [
    {
     "name": "stdout",
     "output_type": "stream",
     "text": [
      "Number of symptoms used to identify the disease  132\n",
      "Number of diseases that can be identified  41\n"
     ]
    }
   ],
   "source": [
    "print(\"Number of symptoms used to identify the disease \",len(df1['Symptom'].unique()))\n",
    "print(\"Number of diseases that can be identified \",len(df['Disease'].unique()))"
   ]
  },
  {
   "cell_type": "markdown",
   "metadata": {
    "papermill": {
     "duration": 0.031307,
     "end_time": "2021-08-30T15:05:20.164109",
     "exception": false,
     "start_time": "2021-08-30T15:05:20.132802",
     "status": "completed"
    },
    "tags": []
   },
   "source": [
    "**Get the names of diseases from data**"
   ]
  },
  {
   "cell_type": "code",
   "execution_count": 50,
   "metadata": {
    "execution": {
     "iopub.execute_input": "2022-12-30T16:36:31.875545Z",
     "iopub.status.busy": "2022-12-30T16:36:31.874904Z",
     "iopub.status.idle": "2022-12-30T16:36:31.88818Z",
     "shell.execute_reply": "2022-12-30T16:36:31.886669Z",
     "shell.execute_reply.started": "2022-12-30T16:36:31.875488Z"
    },
    "papermill": {
     "duration": 0.041096,
     "end_time": "2021-08-30T15:05:20.236599",
     "exception": false,
     "start_time": "2021-08-30T15:05:20.195503",
     "status": "completed"
    },
    "tags": [],
    "trusted": true
   },
   "outputs": [
    {
     "data": {
      "text/plain": [
       "array(['Fungal infection', 'Allergy', 'GERD', 'Chronic cholestasis',\n",
       "       'Drug Reaction', 'Peptic ulcer diseae', 'AIDS', 'Diabetes',\n",
       "       'Gastroenteritis', 'Bronchial Asthma', 'Hypertension', 'Migraine',\n",
       "       'Cervical spondylosis', 'Paralysis (brain hemorrhage)', 'Jaundice',\n",
       "       'Malaria', 'Chicken pox', 'Dengue', 'Typhoid', 'hepatitis A',\n",
       "       'Hepatitis B', 'Hepatitis C', 'Hepatitis D', 'Hepatitis E',\n",
       "       'Alcoholic hepatitis', 'Tuberculosis', 'Common Cold', 'Pneumonia',\n",
       "       'Dimorphic hemmorhoids(piles)', 'Heart attack', 'Varicose veins',\n",
       "       'Hypothyroidism', 'Hyperthyroidism', 'Hypoglycemia',\n",
       "       'Osteoarthristis', 'Arthritis',\n",
       "       '(vertigo) Paroymsal  Positional Vertigo', 'Acne',\n",
       "       'Urinary tract infection', 'Psoriasis', 'Impetigo'], dtype=object)"
      ]
     },
     "execution_count": 50,
     "metadata": {},
     "output_type": "execute_result"
    }
   ],
   "source": [
    "df['Disease'].unique()"
   ]
  },
  {
   "cell_type": "markdown",
   "metadata": {
    "papermill": {
     "duration": 0.031128,
     "end_time": "2021-08-30T15:05:20.299065",
     "exception": false,
     "start_time": "2021-08-30T15:05:20.267937",
     "status": "completed"
    },
    "tags": []
   },
   "source": [
    "### Select the features as symptoms column and label as Disease column\n",
    "\n",
    "Explination: A **feature** is an input; **label** is an output.\n",
    "A feature is one column of the data in your input set. For instance, if you're trying to predict the type of pet someone will choose, your input features might include age, home region, family income, etc. The label is the final choice, such as dog, fish, iguana, rock, etc.\n",
    "\n",
    "Once you've trained your model, you will give it sets of new input containing those features; it will return the predicted \"label\" (pet type) for that person."
   ]
  },
  {
   "cell_type": "code",
   "execution_count": 51,
   "metadata": {
    "execution": {
     "iopub.execute_input": "2022-12-30T16:36:31.891487Z",
     "iopub.status.busy": "2022-12-30T16:36:31.890534Z",
     "iopub.status.idle": "2022-12-30T16:36:31.90198Z",
     "shell.execute_reply": "2022-12-30T16:36:31.900487Z",
     "shell.execute_reply.started": "2022-12-30T16:36:31.891424Z"
    },
    "papermill": {
     "duration": 0.040479,
     "end_time": "2021-08-30T15:05:20.434812",
     "exception": false,
     "start_time": "2021-08-30T15:05:20.394333",
     "status": "completed"
    },
    "tags": [],
    "trusted": true
   },
   "outputs": [],
   "source": [
    "data = df.iloc[:,1:].values\n",
    "labels = df['Disease'].values"
   ]
  },
  {
   "cell_type": "markdown",
   "metadata": {
    "papermill": {
     "duration": 0.030902,
     "end_time": "2021-08-30T15:05:20.497131",
     "exception": false,
     "start_time": "2021-08-30T15:05:20.466229",
     "status": "completed"
    },
    "tags": []
   },
   "source": [
    "## Splitting the dataset to training (80%) and testing (20%)\n",
    "\n",
    "Separating data into training and testing sets is an important part of evaluating data mining models. Typically, when you separate a data set into a training set and testing set, most of the data is used for training, and a smaller portion of the data is used for testing. By using similar data for training and testing, you can minimize the effects of data discrepancies and better understand the characteristics of the model.\n",
    "After a model has been processed by using the training set, we test the model by making predictions against the test set. Because the data in the testing set already contains known values for the attribute that you want to predict, it is easy to determine whether the model's guesses are correct.\n",
    "\n",
    "* Train Dataset: Used to fit the machine learning model.\n",
    "* Test Dataset: Used to evaluate the fit machine learning model."
   ]
  },
  {
   "cell_type": "code",
   "execution_count": 52,
   "metadata": {
    "execution": {
     "iopub.execute_input": "2022-12-30T16:36:31.906022Z",
     "iopub.status.busy": "2022-12-30T16:36:31.904949Z",
     "iopub.status.idle": "2022-12-30T16:36:31.920252Z",
     "shell.execute_reply": "2022-12-30T16:36:31.918404Z",
     "shell.execute_reply.started": "2022-12-30T16:36:31.905959Z"
    },
    "trusted": true
   },
   "outputs": [
    {
     "name": "stdout",
     "output_type": "stream",
     "text": [
      "(3936, 17) (984, 17) (3936,) (984,)\n"
     ]
    }
   ],
   "source": [
    "x_train, x_test, y_train, y_test = train_test_split(data, labels, train_size = 0.8,random_state=42)\n",
    "print(x_train.shape, x_test.shape, y_train.shape, y_test.shape)"
   ]
  },
  {
   "cell_type": "markdown",
   "metadata": {},
   "source": [
    "### Compute the F1 score, also known as balanced F-score or F-measure.\n",
    "\n",
    "The F1 score can be interpreted as a weighted average of the precision and\n",
    "recall, where an F1 score reaches its best value at 1 and worst score at 0.\n",
    "The relative contribution of precision and recall to the F1 score are\n",
    "equal. The formula for the F1 score is\n",
    "\n",
    "    F1 = 2 * (precision * recall) / (precision + recall)"
   ]
  },
  {
   "cell_type": "markdown",
   "metadata": {},
   "source": [
    "# Decision Tree"
   ]
  },
  {
   "cell_type": "markdown",
   "metadata": {},
   "source": [
    "# Random Forest"
   ]
  },
  {
   "cell_type": "code",
   "execution_count": 57,
   "metadata": {
    "execution": {
     "iopub.execute_input": "2022-12-30T16:36:32.545387Z",
     "iopub.status.busy": "2022-12-30T16:36:32.545071Z",
     "iopub.status.idle": "2022-12-30T16:36:34.710935Z",
     "shell.execute_reply": "2022-12-30T16:36:34.709971Z",
     "shell.execute_reply.started": "2022-12-30T16:36:32.545359Z"
    },
    "trusted": true
   },
   "outputs": [
    {
     "name": "stdout",
     "output_type": "stream",
     "text": [
      "Unexpected exception formatting exception. Falling back to standard exception\n"
     ]
    },
    {
     "name": "stderr",
     "output_type": "stream",
     "text": [
      "Traceback (most recent call last):\n",
      "  File \"/Users/Lenovo/Library/Python/3.9/lib/python/site-packages/IPython/core/interactiveshell.py\", line 3550, in run_code\n",
      "    exec(code_obj, self.user_global_ns, self.user_ns)\n",
      "  File \"/var/folders/dr/5832qf191n3cpbfdp95yqc700000gn/T/ipykernel_40664/2850264718.py\", line 1, in <module>\n",
      "    rnd_forest = RandomForestClassifier(random_state=42, max_features='sqrt', n_estimators= 500, max_depth=13)\n",
      "NameError: name 'RandomForestClassifier' is not defined\n",
      "\n",
      "During handling of the above exception, another exception occurred:\n",
      "\n",
      "Traceback (most recent call last):\n",
      "  File \"/Users/Lenovo/Library/Python/3.9/lib/python/site-packages/IPython/core/interactiveshell.py\", line 2144, in showtraceback\n",
      "    stb = self.InteractiveTB.structured_traceback(\n",
      "  File \"/Users/Lenovo/Library/Python/3.9/lib/python/site-packages/IPython/core/ultratb.py\", line 1435, in structured_traceback\n",
      "    return FormattedTB.structured_traceback(\n",
      "  File \"/Users/Lenovo/Library/Python/3.9/lib/python/site-packages/IPython/core/ultratb.py\", line 1326, in structured_traceback\n",
      "    return VerboseTB.structured_traceback(\n",
      "  File \"/Users/Lenovo/Library/Python/3.9/lib/python/site-packages/IPython/core/ultratb.py\", line 1173, in structured_traceback\n",
      "    formatted_exception = self.format_exception_as_a_whole(etype, evalue, etb, number_of_lines_of_context,\n",
      "  File \"/Users/Lenovo/Library/Python/3.9/lib/python/site-packages/IPython/core/ultratb.py\", line 1063, in format_exception_as_a_whole\n",
      "    self.get_records(etb, number_of_lines_of_context, tb_offset) if etb else []\n",
      "  File \"/Users/Lenovo/Library/Python/3.9/lib/python/site-packages/IPython/core/ultratb.py\", line 1115, in get_records\n",
      "    style = stack_data.style_with_executing_node(style, self._tb_highlight)\n",
      "  File \"/Users/Lenovo/Library/Python/3.9/lib/python/site-packages/stack_data/core.py\", line 455, in style_with_executing_node\n",
      "    class NewStyle(style):\n",
      "  File \"/Users/Lenovo/Library/Python/3.9/lib/python/site-packages/pygments/style.py\", line 91, in __new__\n",
      "    ndef[4] = colorformat(styledef[3:])\n",
      "  File \"/Users/Lenovo/Library/Python/3.9/lib/python/site-packages/pygments/style.py\", line 58, in colorformat\n",
      "    assert False, \"wrong color format %r\" % text\n",
      "AssertionError: wrong color format 'ansiyellow'\n"
     ]
    }
   ],
   "source": [
    "rnd_forest = RandomForestClassifier(random_state=42, max_features='sqrt', n_estimators= 500, max_depth=13)\n",
    "rnd_forest.fit(x_train,y_train)\n",
    "preds=rnd_forest.predict(x_test)\n",
    "conf_mat = confusion_matrix(y_test, preds)\n",
    "df_cm = pd.DataFrame(conf_mat, index=df['Disease'].unique(), columns=df['Disease'].unique())\n",
    "print('F1-score% =', f1_score(y_test, preds, average='macro')*100, '|', 'Accuracy% =', accuracy_score(y_test, preds)*100)\n",
    "sns.heatmap(df_cm)"
   ]
  },
  {
   "cell_type": "code",
   "execution_count": null,
   "metadata": {
    "execution": {
     "iopub.execute_input": "2022-12-30T16:36:34.713076Z",
     "iopub.status.busy": "2022-12-30T16:36:34.712654Z",
     "iopub.status.idle": "2022-12-30T16:36:52.036808Z",
     "shell.execute_reply": "2022-12-30T16:36:52.035584Z",
     "shell.execute_reply.started": "2022-12-30T16:36:34.713035Z"
    },
    "trusted": true
   },
   "outputs": [],
   "source": [
    "kfold = KFold(n_splits=10,shuffle=True,random_state=42)\n",
    "rnd_forest_train =cross_val_score(rnd_forest, x_train, y_train, cv=kfold, scoring='accuracy')\n",
    "pd.DataFrame(rnd_forest_train,columns=['Scores'])\n",
    "print(\"Mean Accuracy: %.3f%%, Standard Deviation: (%.2f%%)\" % (rnd_forest_train.mean()*100.0, rnd_forest_train.std()*100.0))"
   ]
  },
  {
   "cell_type": "code",
   "execution_count": null,
   "metadata": {
    "execution": {
     "iopub.execute_input": "2022-12-30T16:36:52.0389Z",
     "iopub.status.busy": "2022-12-30T16:36:52.038369Z",
     "iopub.status.idle": "2022-12-30T16:37:02.487587Z",
     "shell.execute_reply": "2022-12-30T16:37:02.486456Z",
     "shell.execute_reply.started": "2022-12-30T16:36:52.038856Z"
    },
    "trusted": true
   },
   "outputs": [],
   "source": [
    "kfold = KFold(n_splits=10,shuffle=True,random_state=42)\n",
    "rnd_forest_test =cross_val_score(rnd_forest, x_test, y_test, cv=kfold, scoring='accuracy')\n",
    "pd.DataFrame(rnd_forest_test,columns=['Scores'])\n",
    "print(\"Mean Accuracy: %.3f%%, Standard Deviation: (%.2f%%)\" % (rnd_forest_test.mean()*100.0, rnd_forest_test.std()*100.0))"
   ]
  },
  {
   "cell_type": "markdown",
   "metadata": {},
   "source": [
    "# Fucntion to manually test the models"
   ]
  },
  {
   "cell_type": "code",
   "execution_count": null,
   "metadata": {
    "execution": {
     "iopub.execute_input": "2022-12-30T16:37:02.491204Z",
     "iopub.status.busy": "2022-12-30T16:37:02.490859Z",
     "iopub.status.idle": "2022-12-30T16:37:02.499567Z",
     "shell.execute_reply": "2022-12-30T16:37:02.49836Z",
     "shell.execute_reply.started": "2022-12-30T16:37:02.491165Z"
    },
    "trusted": true
   },
   "outputs": [
    {
     "name": "stdout",
     "output_type": "stream",
     "text": [
      "Unexpected exception formatting exception. Falling back to standard exception\n"
     ]
    },
    {
     "name": "stderr",
     "output_type": "stream",
     "text": [
      "Traceback (most recent call last):\n",
      "  File \"/Users/Lenovo/Library/Python/3.9/lib/python/site-packages/IPython/core/interactiveshell.py\", line 3550, in run_code\n",
      "    exec(code_obj, self.user_global_ns, self.user_ns)\n",
      "  File \"/var/folders/dr/5832qf191n3cpbfdp95yqc700000gn/T/ipykernel_10009/2086949622.py\", line 1, in <module>\n",
      "    discrp = pd.read_csv(\"/Users/Lenovo/Desktop/second year/prj1 dataset/symptom_Description.csv\")\n",
      "NameError: name 'pd' is not defined\n",
      "\n",
      "During handling of the above exception, another exception occurred:\n",
      "\n",
      "Traceback (most recent call last):\n",
      "  File \"/Users/Lenovo/Library/Python/3.9/lib/python/site-packages/IPython/core/interactiveshell.py\", line 2144, in showtraceback\n",
      "    stb = self.InteractiveTB.structured_traceback(\n",
      "  File \"/Users/Lenovo/Library/Python/3.9/lib/python/site-packages/IPython/core/ultratb.py\", line 1435, in structured_traceback\n",
      "    return FormattedTB.structured_traceback(\n",
      "  File \"/Users/Lenovo/Library/Python/3.9/lib/python/site-packages/IPython/core/ultratb.py\", line 1326, in structured_traceback\n",
      "    return VerboseTB.structured_traceback(\n",
      "  File \"/Users/Lenovo/Library/Python/3.9/lib/python/site-packages/IPython/core/ultratb.py\", line 1173, in structured_traceback\n",
      "    formatted_exception = self.format_exception_as_a_whole(etype, evalue, etb, number_of_lines_of_context,\n",
      "  File \"/Users/Lenovo/Library/Python/3.9/lib/python/site-packages/IPython/core/ultratb.py\", line 1063, in format_exception_as_a_whole\n",
      "    self.get_records(etb, number_of_lines_of_context, tb_offset) if etb else []\n",
      "  File \"/Users/Lenovo/Library/Python/3.9/lib/python/site-packages/IPython/core/ultratb.py\", line 1115, in get_records\n",
      "    style = stack_data.style_with_executing_node(style, self._tb_highlight)\n",
      "  File \"/Users/Lenovo/Library/Python/3.9/lib/python/site-packages/stack_data/core.py\", line 455, in style_with_executing_node\n",
      "    class NewStyle(style):\n",
      "  File \"/Users/Lenovo/Library/Python/3.9/lib/python/site-packages/pygments/style.py\", line 91, in __new__\n",
      "    ndef[4] = colorformat(styledef[3:])\n",
      "  File \"/Users/Lenovo/Library/Python/3.9/lib/python/site-packages/pygments/style.py\", line 58, in colorformat\n",
      "    assert False, \"wrong color format %r\" % text\n",
      "AssertionError: wrong color format 'ansiyellow'\n"
     ]
    }
   ],
   "source": [
    "discrp = pd.read_csv(\"/Users/Lenovo/Desktop/second year/prj1 dataset/symptom_Description.csv\")"
   ]
  },
  {
   "cell_type": "code",
   "execution_count": null,
   "metadata": {
    "execution": {
     "iopub.execute_input": "2022-12-30T16:37:02.50147Z",
     "iopub.status.busy": "2022-12-30T16:37:02.501081Z",
     "iopub.status.idle": "2022-12-30T16:37:02.512992Z",
     "shell.execute_reply": "2022-12-30T16:37:02.511881Z",
     "shell.execute_reply.started": "2022-12-30T16:37:02.501439Z"
    },
    "trusted": true
   },
   "outputs": [
    {
     "name": "stdout",
     "output_type": "stream",
     "text": [
      "Unexpected exception formatting exception. Falling back to standard exception\n"
     ]
    },
    {
     "name": "stderr",
     "output_type": "stream",
     "text": [
      "Traceback (most recent call last):\n",
      "  File \"/Users/Lenovo/Library/Python/3.9/lib/python/site-packages/IPython/core/interactiveshell.py\", line 3550, in run_code\n",
      "    exec(code_obj, self.user_global_ns, self.user_ns)\n",
      "  File \"/var/folders/dr/5832qf191n3cpbfdp95yqc700000gn/T/ipykernel_10009/929186055.py\", line 1, in <module>\n",
      "    discrp.head()\n",
      "NameError: name 'discrp' is not defined\n",
      "\n",
      "During handling of the above exception, another exception occurred:\n",
      "\n",
      "Traceback (most recent call last):\n",
      "  File \"/Users/Lenovo/Library/Python/3.9/lib/python/site-packages/IPython/core/interactiveshell.py\", line 2144, in showtraceback\n",
      "    stb = self.InteractiveTB.structured_traceback(\n",
      "  File \"/Users/Lenovo/Library/Python/3.9/lib/python/site-packages/IPython/core/ultratb.py\", line 1435, in structured_traceback\n",
      "    return FormattedTB.structured_traceback(\n",
      "  File \"/Users/Lenovo/Library/Python/3.9/lib/python/site-packages/IPython/core/ultratb.py\", line 1326, in structured_traceback\n",
      "    return VerboseTB.structured_traceback(\n",
      "  File \"/Users/Lenovo/Library/Python/3.9/lib/python/site-packages/IPython/core/ultratb.py\", line 1173, in structured_traceback\n",
      "    formatted_exception = self.format_exception_as_a_whole(etype, evalue, etb, number_of_lines_of_context,\n",
      "  File \"/Users/Lenovo/Library/Python/3.9/lib/python/site-packages/IPython/core/ultratb.py\", line 1063, in format_exception_as_a_whole\n",
      "    self.get_records(etb, number_of_lines_of_context, tb_offset) if etb else []\n",
      "  File \"/Users/Lenovo/Library/Python/3.9/lib/python/site-packages/IPython/core/ultratb.py\", line 1115, in get_records\n",
      "    style = stack_data.style_with_executing_node(style, self._tb_highlight)\n",
      "  File \"/Users/Lenovo/Library/Python/3.9/lib/python/site-packages/stack_data/core.py\", line 455, in style_with_executing_node\n",
      "    class NewStyle(style):\n",
      "  File \"/Users/Lenovo/Library/Python/3.9/lib/python/site-packages/pygments/style.py\", line 91, in __new__\n",
      "    ndef[4] = colorformat(styledef[3:])\n",
      "  File \"/Users/Lenovo/Library/Python/3.9/lib/python/site-packages/pygments/style.py\", line 58, in colorformat\n",
      "    assert False, \"wrong color format %r\" % text\n",
      "AssertionError: wrong color format 'ansiyellow'\n"
     ]
    }
   ],
   "source": [
    "discrp.head()"
   ]
  },
  {
   "cell_type": "code",
   "execution_count": null,
   "metadata": {
    "execution": {
     "iopub.execute_input": "2022-12-30T16:37:02.514704Z",
     "iopub.status.busy": "2022-12-30T16:37:02.514386Z",
     "iopub.status.idle": "2022-12-30T16:37:02.522466Z",
     "shell.execute_reply": "2022-12-30T16:37:02.521155Z",
     "shell.execute_reply.started": "2022-12-30T16:37:02.514674Z"
    },
    "trusted": true
   },
   "outputs": [
    {
     "name": "stdout",
     "output_type": "stream",
     "text": [
      "Unexpected exception formatting exception. Falling back to standard exception\n"
     ]
    },
    {
     "name": "stderr",
     "output_type": "stream",
     "text": [
      "Traceback (most recent call last):\n",
      "  File \"/Users/Lenovo/Library/Python/3.9/lib/python/site-packages/IPython/core/interactiveshell.py\", line 3550, in run_code\n",
      "    exec(code_obj, self.user_global_ns, self.user_ns)\n",
      "  File \"/var/folders/dr/5832qf191n3cpbfdp95yqc700000gn/T/ipykernel_10009/2527559710.py\", line 1, in <module>\n",
      "    ektra7at = pd.read_csv(\"/Users/Lenovo/Desktop/second year/prj1 dataset/symptom_precaution.csv\")\n",
      "NameError: name 'pd' is not defined\n",
      "\n",
      "During handling of the above exception, another exception occurred:\n",
      "\n",
      "Traceback (most recent call last):\n",
      "  File \"/Users/Lenovo/Library/Python/3.9/lib/python/site-packages/IPython/core/interactiveshell.py\", line 2144, in showtraceback\n",
      "    stb = self.InteractiveTB.structured_traceback(\n",
      "  File \"/Users/Lenovo/Library/Python/3.9/lib/python/site-packages/IPython/core/ultratb.py\", line 1435, in structured_traceback\n",
      "    return FormattedTB.structured_traceback(\n",
      "  File \"/Users/Lenovo/Library/Python/3.9/lib/python/site-packages/IPython/core/ultratb.py\", line 1326, in structured_traceback\n",
      "    return VerboseTB.structured_traceback(\n",
      "  File \"/Users/Lenovo/Library/Python/3.9/lib/python/site-packages/IPython/core/ultratb.py\", line 1173, in structured_traceback\n",
      "    formatted_exception = self.format_exception_as_a_whole(etype, evalue, etb, number_of_lines_of_context,\n",
      "  File \"/Users/Lenovo/Library/Python/3.9/lib/python/site-packages/IPython/core/ultratb.py\", line 1063, in format_exception_as_a_whole\n",
      "    self.get_records(etb, number_of_lines_of_context, tb_offset) if etb else []\n",
      "  File \"/Users/Lenovo/Library/Python/3.9/lib/python/site-packages/IPython/core/ultratb.py\", line 1115, in get_records\n",
      "    style = stack_data.style_with_executing_node(style, self._tb_highlight)\n",
      "  File \"/Users/Lenovo/Library/Python/3.9/lib/python/site-packages/stack_data/core.py\", line 455, in style_with_executing_node\n",
      "    class NewStyle(style):\n",
      "  File \"/Users/Lenovo/Library/Python/3.9/lib/python/site-packages/pygments/style.py\", line 91, in __new__\n",
      "    ndef[4] = colorformat(styledef[3:])\n",
      "  File \"/Users/Lenovo/Library/Python/3.9/lib/python/site-packages/pygments/style.py\", line 58, in colorformat\n",
      "    assert False, \"wrong color format %r\" % text\n",
      "AssertionError: wrong color format 'ansiyellow'\n"
     ]
    }
   ],
   "source": [
    "ektra7at = pd.read_csv(\"/Users/Lenovo/Desktop/second year/prj1 dataset/symptom_precaution.csv\")"
   ]
  },
  {
   "cell_type": "code",
   "execution_count": null,
   "metadata": {
    "execution": {
     "iopub.execute_input": "2022-12-30T16:37:02.524585Z",
     "iopub.status.busy": "2022-12-30T16:37:02.523786Z",
     "iopub.status.idle": "2022-12-30T16:37:02.539937Z",
     "shell.execute_reply": "2022-12-30T16:37:02.538745Z",
     "shell.execute_reply.started": "2022-12-30T16:37:02.524551Z"
    },
    "trusted": true
   },
   "outputs": [
    {
     "data": {
      "text/html": [
       "<div>\n",
       "<style scoped>\n",
       "    .dataframe tbody tr th:only-of-type {\n",
       "        vertical-align: middle;\n",
       "    }\n",
       "\n",
       "    .dataframe tbody tr th {\n",
       "        vertical-align: top;\n",
       "    }\n",
       "\n",
       "    .dataframe thead th {\n",
       "        text-align: right;\n",
       "    }\n",
       "</style>\n",
       "<table border=\"1\" class=\"dataframe\">\n",
       "  <thead>\n",
       "    <tr style=\"text-align: right;\">\n",
       "      <th></th>\n",
       "      <th>Disease</th>\n",
       "      <th>Precaution_1</th>\n",
       "      <th>Precaution_2</th>\n",
       "      <th>Precaution_3</th>\n",
       "      <th>Precaution_4</th>\n",
       "    </tr>\n",
       "  </thead>\n",
       "  <tbody>\n",
       "    <tr>\n",
       "      <th>0</th>\n",
       "      <td>Drug Reaction</td>\n",
       "      <td>stop irritation</td>\n",
       "      <td>consult nearest hospital</td>\n",
       "      <td>stop taking drug</td>\n",
       "      <td>follow up</td>\n",
       "    </tr>\n",
       "    <tr>\n",
       "      <th>1</th>\n",
       "      <td>Malaria</td>\n",
       "      <td>Consult nearest hospital</td>\n",
       "      <td>avoid oily food</td>\n",
       "      <td>avoid non veg food</td>\n",
       "      <td>keep mosquitos out</td>\n",
       "    </tr>\n",
       "    <tr>\n",
       "      <th>2</th>\n",
       "      <td>Allergy</td>\n",
       "      <td>apply calamine</td>\n",
       "      <td>cover area with bandage</td>\n",
       "      <td>NaN</td>\n",
       "      <td>use ice to compress itching</td>\n",
       "    </tr>\n",
       "    <tr>\n",
       "      <th>3</th>\n",
       "      <td>Hypothyroidism</td>\n",
       "      <td>reduce stress</td>\n",
       "      <td>exercise</td>\n",
       "      <td>eat healthy</td>\n",
       "      <td>get proper sleep</td>\n",
       "    </tr>\n",
       "    <tr>\n",
       "      <th>4</th>\n",
       "      <td>Psoriasis</td>\n",
       "      <td>wash hands with warm soapy water</td>\n",
       "      <td>stop bleeding using pressure</td>\n",
       "      <td>consult doctor</td>\n",
       "      <td>salt baths</td>\n",
       "    </tr>\n",
       "  </tbody>\n",
       "</table>\n",
       "</div>"
      ],
      "text/plain": [
       "          Disease                      Precaution_1  \\\n",
       "0   Drug Reaction                   stop irritation   \n",
       "1         Malaria          Consult nearest hospital   \n",
       "2         Allergy                    apply calamine   \n",
       "3  Hypothyroidism                     reduce stress   \n",
       "4       Psoriasis  wash hands with warm soapy water   \n",
       "\n",
       "                   Precaution_2        Precaution_3  \\\n",
       "0      consult nearest hospital    stop taking drug   \n",
       "1               avoid oily food  avoid non veg food   \n",
       "2       cover area with bandage                 NaN   \n",
       "3                      exercise         eat healthy   \n",
       "4  stop bleeding using pressure      consult doctor   \n",
       "\n",
       "                  Precaution_4  \n",
       "0                    follow up  \n",
       "1           keep mosquitos out  \n",
       "2  use ice to compress itching  \n",
       "3             get proper sleep  \n",
       "4                   salt baths  "
      ]
     },
     "execution_count": 71,
     "metadata": {},
     "output_type": "execute_result"
    }
   ],
   "source": [
    "ektra7at.head()"
   ]
  },
  {
   "cell_type": "markdown",
   "metadata": {},
   "source": [
    "**Save Random Forest model**"
   ]
  },
  {
   "cell_type": "code",
   "execution_count": null,
   "metadata": {
    "execution": {
     "iopub.execute_input": "2022-12-30T16:37:02.542014Z",
     "iopub.status.busy": "2022-12-30T16:37:02.541575Z",
     "iopub.status.idle": "2022-12-30T16:37:02.551752Z",
     "shell.execute_reply": "2022-12-30T16:37:02.550961Z",
     "shell.execute_reply.started": "2022-12-30T16:37:02.541981Z"
    },
    "trusted": true
   },
   "outputs": [
    {
     "name": "stdout",
     "output_type": "stream",
     "text": [
      "Unexpected exception formatting exception. Falling back to standard exception\n"
     ]
    },
    {
     "name": "stderr",
     "output_type": "stream",
     "text": [
      "Traceback (most recent call last):\n",
      "  File \"/Users/Lenovo/Library/Python/3.9/lib/python/site-packages/IPython/core/interactiveshell.py\", line 3550, in run_code\n",
      "    exec(code_obj, self.user_global_ns, self.user_ns)\n",
      "  File \"/var/folders/dr/5832qf191n3cpbfdp95yqc700000gn/T/ipykernel_10009/2236264918.py\", line 2, in <module>\n",
      "    joblib.dump(rfc, \"/kaggle/working/random_forest.joblib\")\n",
      "NameError: name 'joblib' is not defined\n",
      "\n",
      "During handling of the above exception, another exception occurred:\n",
      "\n",
      "Traceback (most recent call last):\n",
      "  File \"/Users/Lenovo/Library/Python/3.9/lib/python/site-packages/IPython/core/interactiveshell.py\", line 2144, in showtraceback\n",
      "    stb = self.InteractiveTB.structured_traceback(\n",
      "  File \"/Users/Lenovo/Library/Python/3.9/lib/python/site-packages/IPython/core/ultratb.py\", line 1435, in structured_traceback\n",
      "    return FormattedTB.structured_traceback(\n",
      "  File \"/Users/Lenovo/Library/Python/3.9/lib/python/site-packages/IPython/core/ultratb.py\", line 1326, in structured_traceback\n",
      "    return VerboseTB.structured_traceback(\n",
      "  File \"/Users/Lenovo/Library/Python/3.9/lib/python/site-packages/IPython/core/ultratb.py\", line 1173, in structured_traceback\n",
      "    formatted_exception = self.format_exception_as_a_whole(etype, evalue, etb, number_of_lines_of_context,\n",
      "  File \"/Users/Lenovo/Library/Python/3.9/lib/python/site-packages/IPython/core/ultratb.py\", line 1063, in format_exception_as_a_whole\n",
      "    self.get_records(etb, number_of_lines_of_context, tb_offset) if etb else []\n",
      "  File \"/Users/Lenovo/Library/Python/3.9/lib/python/site-packages/IPython/core/ultratb.py\", line 1115, in get_records\n",
      "    style = stack_data.style_with_executing_node(style, self._tb_highlight)\n",
      "  File \"/Users/Lenovo/Library/Python/3.9/lib/python/site-packages/stack_data/core.py\", line 455, in style_with_executing_node\n",
      "    class NewStyle(style):\n",
      "  File \"/Users/Lenovo/Library/Python/3.9/lib/python/site-packages/pygments/style.py\", line 91, in __new__\n",
      "    ndef[4] = colorformat(styledef[3:])\n",
      "  File \"/Users/Lenovo/Library/Python/3.9/lib/python/site-packages/pygments/style.py\", line 58, in colorformat\n",
      "    assert False, \"wrong color format %r\" % text\n",
      "AssertionError: wrong color format 'ansiyellow'\n"
     ]
    }
   ],
   "source": [
    "# save\n",
    "joblib.dump(rfc, \"/kaggle/working/random_forest.joblib\")"
   ]
  },
  {
   "cell_type": "markdown",
   "metadata": {},
   "source": [
    "**Load Model**"
   ]
  },
  {
   "cell_type": "code",
   "execution_count": null,
   "metadata": {
    "execution": {
     "iopub.execute_input": "2022-12-30T16:37:02.555463Z",
     "iopub.status.busy": "2022-12-30T16:37:02.553204Z",
     "iopub.status.idle": "2022-12-30T16:37:02.561083Z",
     "shell.execute_reply": "2022-12-30T16:37:02.560269Z",
     "shell.execute_reply.started": "2022-12-30T16:37:02.555419Z"
    },
    "trusted": true
   },
   "outputs": [
    {
     "name": "stdout",
     "output_type": "stream",
     "text": [
      "Unexpected exception formatting exception. Falling back to standard exception\n"
     ]
    },
    {
     "name": "stderr",
     "output_type": "stream",
     "text": [
      "Traceback (most recent call last):\n",
      "  File \"/Users/Lenovo/Library/Python/3.9/lib/python/site-packages/IPython/core/interactiveshell.py\", line 3550, in run_code\n",
      "    exec(code_obj, self.user_global_ns, self.user_ns)\n",
      "  File \"/var/folders/dr/5832qf191n3cpbfdp95yqc700000gn/T/ipykernel_10009/639638582.py\", line 2, in <module>\n",
      "    loaded_rf = joblib.load(\"/kaggle/working/random_forest.joblib\")\n",
      "NameError: name 'joblib' is not defined\n",
      "\n",
      "During handling of the above exception, another exception occurred:\n",
      "\n",
      "Traceback (most recent call last):\n",
      "  File \"/Users/Lenovo/Library/Python/3.9/lib/python/site-packages/IPython/core/interactiveshell.py\", line 2144, in showtraceback\n",
      "    stb = self.InteractiveTB.structured_traceback(\n",
      "  File \"/Users/Lenovo/Library/Python/3.9/lib/python/site-packages/IPython/core/ultratb.py\", line 1435, in structured_traceback\n",
      "    return FormattedTB.structured_traceback(\n",
      "  File \"/Users/Lenovo/Library/Python/3.9/lib/python/site-packages/IPython/core/ultratb.py\", line 1326, in structured_traceback\n",
      "    return VerboseTB.structured_traceback(\n",
      "  File \"/Users/Lenovo/Library/Python/3.9/lib/python/site-packages/IPython/core/ultratb.py\", line 1173, in structured_traceback\n",
      "    formatted_exception = self.format_exception_as_a_whole(etype, evalue, etb, number_of_lines_of_context,\n",
      "  File \"/Users/Lenovo/Library/Python/3.9/lib/python/site-packages/IPython/core/ultratb.py\", line 1063, in format_exception_as_a_whole\n",
      "    self.get_records(etb, number_of_lines_of_context, tb_offset) if etb else []\n",
      "  File \"/Users/Lenovo/Library/Python/3.9/lib/python/site-packages/IPython/core/ultratb.py\", line 1115, in get_records\n",
      "    style = stack_data.style_with_executing_node(style, self._tb_highlight)\n",
      "  File \"/Users/Lenovo/Library/Python/3.9/lib/python/site-packages/stack_data/core.py\", line 455, in style_with_executing_node\n",
      "    class NewStyle(style):\n",
      "  File \"/Users/Lenovo/Library/Python/3.9/lib/python/site-packages/pygments/style.py\", line 91, in __new__\n",
      "    ndef[4] = colorformat(styledef[3:])\n",
      "  File \"/Users/Lenovo/Library/Python/3.9/lib/python/site-packages/pygments/style.py\", line 58, in colorformat\n",
      "    assert False, \"wrong color format %r\" % text\n",
      "AssertionError: wrong color format 'ansiyellow'\n"
     ]
    }
   ],
   "source": [
    "# load, no need to initialize the loaded_rf\n",
    "loaded_rf = joblib.load(\"/kaggle/working/random_forest.joblib\")"
   ]
  },
  {
   "cell_type": "code",
   "execution_count": null,
   "metadata": {
    "execution": {
     "iopub.execute_input": "2022-12-30T16:37:02.56373Z",
     "iopub.status.busy": "2022-12-30T16:37:02.562893Z",
     "iopub.status.idle": "2022-12-30T16:37:02.576662Z",
     "shell.execute_reply": "2022-12-30T16:37:02.575375Z",
     "shell.execute_reply.started": "2022-12-30T16:37:02.563684Z"
    },
    "trusted": true
   },
   "outputs": [],
   "source": [
    "def predd(x,S1,S2,S3,S4,S5,S6,S7,S8,S9,S10,S11,S12,S13,S14,S15,S16,S17):\n",
    "    psymptoms = [S1,S2,S3,S4,S5,S6,S7,S8,S9,S10,S11,S12,S13,S14,S15,S16,S17]\n",
    "    #print(psymptoms)\n",
    "    a = np.array(df1[\"Symptom\"])\n",
    "    b = np.array(df1[\"weight\"])\n",
    "    for j in range(len(psymptoms)):\n",
    "        for k in range(len(a)):\n",
    "            if psymptoms[j]==a[k]:\n",
    "                psymptoms[j]=b[k]\n",
    "    psy = [psymptoms]\n",
    "    pred2 = x.predict(psy)\n",
    "    disp= discrp[discrp['Disease']==pred2[0]]\n",
    "    disp = disp.values[0][1]\n",
    "    recomnd = ektra7at[ektra7at['Disease']==pred2[0]]\n",
    "    c=np.where(ektra7at['Disease']==pred2[0])[0][0]\n",
    "    precuation_list=[]\n",
    "    for i in range(1,len(ektra7at.iloc[c])):\n",
    "          precuation_list.append(ektra7at.iloc[c,i])\n",
    "    print(\"The Disease Name: \",pred2[0])\n",
    "    print(\"The Disease Discription: \",disp)\n",
    "    print(\"Recommended Things to do at home: \")\n",
    "    for i in precuation_list:\n",
    "        print(i)"
   ]
  },
  {
   "cell_type": "markdown",
   "metadata": {},
   "source": [
    "# Comparison between algorithms testing and training"
   ]
  },
  {
   "cell_type": "code",
   "execution_count": null,
   "metadata": {
    "execution": {
     "iopub.execute_input": "2022-12-30T16:37:02.578807Z",
     "iopub.status.busy": "2022-12-30T16:37:02.578424Z",
     "iopub.status.idle": "2022-12-30T16:37:02.593055Z",
     "shell.execute_reply": "2022-12-30T16:37:02.592085Z",
     "shell.execute_reply.started": "2022-12-30T16:37:02.578773Z"
    },
    "trusted": true
   },
   "outputs": [
    {
     "ename": "NameError",
     "evalue": "name 'DS_train' is not defined",
     "output_type": "error",
     "traceback": [
      "\u001b[0;31m---------------------------------------------------------------------------\u001b[0m",
      "\u001b[0;31mNameError\u001b[0m                                 Traceback (most recent call last)",
      "Cell \u001b[0;32mIn[80], line 3\u001b[0m\n\u001b[1;32m      1\u001b[0m n_groups \u001b[38;5;241m=\u001b[39m \u001b[38;5;241m2\u001b[39m\n\u001b[1;32m      2\u001b[0m algorithms \u001b[38;5;241m=\u001b[39m (\u001b[38;5;124m'\u001b[39m\u001b[38;5;124mDecision Tree\u001b[39m\u001b[38;5;124m'\u001b[39m, \u001b[38;5;124m'\u001b[39m\u001b[38;5;124mRandom Forest\u001b[39m\u001b[38;5;124m'\u001b[39m)\n\u001b[0;32m----> 3\u001b[0m train_accuracy \u001b[38;5;241m=\u001b[39m (\u001b[43mDS_train\u001b[49m\u001b[38;5;241m.\u001b[39mmean()\u001b[38;5;241m*\u001b[39m\u001b[38;5;241m100.0\u001b[39m,\n\u001b[1;32m      4\u001b[0m                  rnd_forest_train\u001b[38;5;241m.\u001b[39mmean()\u001b[38;5;241m*\u001b[39m\u001b[38;5;241m100.0\u001b[39m,)\n",
      "\u001b[0;31mNameError\u001b[0m: name 'DS_train' is not defined"
     ]
    }
   ],
   "source": [
    "n_groups = 2\n",
    "algorithms = ('Decision Tree', 'Random Forest')\n",
    "train_accuracy = (DS_train.mean()*100.0,\n",
    "                 rnd_forest_train.mean()*100.0,)"
   ]
  },
  {
   "cell_type": "code",
   "execution_count": null,
   "metadata": {
    "execution": {
     "iopub.execute_input": "2022-12-30T16:37:02.59483Z",
     "iopub.status.busy": "2022-12-30T16:37:02.594333Z",
     "iopub.status.idle": "2022-12-30T16:37:02.604452Z",
     "shell.execute_reply": "2022-12-30T16:37:02.60317Z",
     "shell.execute_reply.started": "2022-12-30T16:37:02.5948Z"
    },
    "trusted": true
   },
   "outputs": [
    {
     "name": "stdout",
     "output_type": "stream",
     "text": [
      "Unexpected exception formatting exception. Falling back to standard exception\n"
     ]
    },
    {
     "name": "stderr",
     "output_type": "stream",
     "text": [
      "Traceback (most recent call last):\n",
      "  File \"/Users/Lenovo/Library/Python/3.9/lib/python/site-packages/IPython/core/interactiveshell.py\", line 3550, in run_code\n",
      "    exec(code_obj, self.user_global_ns, self.user_ns)\n",
      "  File \"/var/folders/dr/5832qf191n3cpbfdp95yqc700000gn/T/ipykernel_10009/3250695714.py\", line 1, in <module>\n",
      "    test_accuracy = (DS_test.mean()*100.0,\n",
      "NameError: name 'DS_test' is not defined\n",
      "\n",
      "During handling of the above exception, another exception occurred:\n",
      "\n",
      "Traceback (most recent call last):\n",
      "  File \"/Users/Lenovo/Library/Python/3.9/lib/python/site-packages/IPython/core/interactiveshell.py\", line 2144, in showtraceback\n",
      "    stb = self.InteractiveTB.structured_traceback(\n",
      "  File \"/Users/Lenovo/Library/Python/3.9/lib/python/site-packages/IPython/core/ultratb.py\", line 1435, in structured_traceback\n",
      "    return FormattedTB.structured_traceback(\n",
      "  File \"/Users/Lenovo/Library/Python/3.9/lib/python/site-packages/IPython/core/ultratb.py\", line 1326, in structured_traceback\n",
      "    return VerboseTB.structured_traceback(\n",
      "  File \"/Users/Lenovo/Library/Python/3.9/lib/python/site-packages/IPython/core/ultratb.py\", line 1173, in structured_traceback\n",
      "    formatted_exception = self.format_exception_as_a_whole(etype, evalue, etb, number_of_lines_of_context,\n",
      "  File \"/Users/Lenovo/Library/Python/3.9/lib/python/site-packages/IPython/core/ultratb.py\", line 1063, in format_exception_as_a_whole\n",
      "    self.get_records(etb, number_of_lines_of_context, tb_offset) if etb else []\n",
      "  File \"/Users/Lenovo/Library/Python/3.9/lib/python/site-packages/IPython/core/ultratb.py\", line 1115, in get_records\n",
      "    style = stack_data.style_with_executing_node(style, self._tb_highlight)\n",
      "  File \"/Users/Lenovo/Library/Python/3.9/lib/python/site-packages/stack_data/core.py\", line 455, in style_with_executing_node\n",
      "    class NewStyle(style):\n",
      "  File \"/Users/Lenovo/Library/Python/3.9/lib/python/site-packages/pygments/style.py\", line 91, in __new__\n",
      "    ndef[4] = colorformat(styledef[3:])\n",
      "  File \"/Users/Lenovo/Library/Python/3.9/lib/python/site-packages/pygments/style.py\", line 58, in colorformat\n",
      "    assert False, \"wrong color format %r\" % text\n",
      "AssertionError: wrong color format 'ansiyellow'\n"
     ]
    }
   ],
   "source": [
    "test_accuracy = (DS_test.mean()*100.0,\n",
    "                 rnd_forest_test.mean()*100.0)"
   ]
  },
  {
   "cell_type": "code",
   "execution_count": null,
   "metadata": {
    "execution": {
     "iopub.execute_input": "2022-12-30T16:37:02.606666Z",
     "iopub.status.busy": "2022-12-30T16:37:02.606222Z",
     "iopub.status.idle": "2022-12-30T16:37:02.615998Z",
     "shell.execute_reply": "2022-12-30T16:37:02.614834Z",
     "shell.execute_reply.started": "2022-12-30T16:37:02.60663Z"
    },
    "trusted": true
   },
   "outputs": [],
   "source": [
    "Standard_Deviation=(DS_test.std()*100.0,     \n",
    "                 rnd_forest_test.std()*100.0)"
   ]
  },
  {
   "cell_type": "code",
   "execution_count": null,
   "metadata": {
    "execution": {
     "iopub.execute_input": "2022-12-30T16:37:02.618191Z",
     "iopub.status.busy": "2022-12-30T16:37:02.617839Z",
     "iopub.status.idle": "2022-12-30T16:37:02.735661Z",
     "shell.execute_reply": "2022-12-30T16:37:02.734108Z",
     "shell.execute_reply.started": "2022-12-30T16:37:02.618159Z"
    },
    "trusted": true
   },
   "outputs": [],
   "source": [
    "# create plot\n",
    "fig, ax = plt.subplots(figsize=(15, 10))\n",
    "index = np.arange(n_groups)\n",
    "bar_width = 0.3\n",
    "opacity = 1\n",
    "rects1 = plt.bar(index, train_accuracy, bar_width, alpha = opacity, color='Cornflowerblue', label='Train')\n",
    "rects2 = plt.bar(index + bar_width, test_accuracy, bar_width, alpha = opacity, color='Teal', label='Test')\n",
    "rects3 = plt.bar(index + bar_width, Standard_Deviation, bar_width, alpha = opacity, color='red', label='Standard Deviation')\n",
    "plt.xlabel('Algorithm') # x axis label\n",
    "plt.ylabel('Accuracy (%)') # y axis label\n",
    "plt.ylim(0, 115)\n",
    "plt.title('Comparison of Algorithm Accuracies') # plot title\n",
    "plt.xticks(index + bar_width * 0.5, algorithms) # x axis data labels\n",
    "plt.legend(loc = 'upper right') # show legend\n",
    "for index, data in enumerate(train_accuracy):\n",
    "    plt.text(x = index - 0.035, y = data + 1, s = round(data, 2), fontdict = dict(fontsize = 8))\n",
    "for index, data in enumerate(test_accuracy):\n",
    "    plt.text(x = index + 0.25, y = data + 1, s = round(data, 2), fontdict = dict(fontsize = 8))\n",
    "for index, data in enumerate(Standard_Deviation):\n",
    "    plt.text(x = index + 0.25, y = data + 1, s = round(data, 2), fontdict = dict(fontsize = 8))    "
   ]
  },
  {
   "cell_type": "markdown",
   "metadata": {},
   "source": [
    "**Test it Like The user would do**"
   ]
  },
  {
   "cell_type": "code",
   "execution_count": null,
   "metadata": {
    "execution": {
     "iopub.execute_input": "2022-12-30T16:37:02.739084Z",
     "iopub.status.busy": "2022-12-30T16:37:02.737677Z",
     "iopub.status.idle": "2022-12-30T16:37:02.826971Z",
     "shell.execute_reply": "2022-12-30T16:37:02.825794Z",
     "shell.execute_reply.started": "2022-12-30T16:37:02.739021Z"
    },
    "trusted": true
   },
   "outputs": [
    {
     "name": "stdout",
     "output_type": "stream",
     "text": [
      "Unexpected exception formatting exception. Falling back to standard exception\n"
     ]
    },
    {
     "name": "stderr",
     "output_type": "stream",
     "text": [
      "Traceback (most recent call last):\n",
      "  File \"/Users/Lenovo/Library/Python/3.9/lib/python/site-packages/IPython/core/interactiveshell.py\", line 3550, in run_code\n",
      "    exec(code_obj, self.user_global_ns, self.user_ns)\n",
      "  File \"/var/folders/dr/5832qf191n3cpbfdp95yqc700000gn/T/ipykernel_10009/3025195112.py\", line 1, in <module>\n",
      "    sympList=df1[\"Symptom\"].to_list()\n",
      "NameError: name 'df1' is not defined\n",
      "\n",
      "During handling of the above exception, another exception occurred:\n",
      "\n",
      "Traceback (most recent call last):\n",
      "  File \"/Users/Lenovo/Library/Python/3.9/lib/python/site-packages/IPython/core/interactiveshell.py\", line 2144, in showtraceback\n",
      "    stb = self.InteractiveTB.structured_traceback(\n",
      "  File \"/Users/Lenovo/Library/Python/3.9/lib/python/site-packages/IPython/core/ultratb.py\", line 1435, in structured_traceback\n",
      "    return FormattedTB.structured_traceback(\n",
      "  File \"/Users/Lenovo/Library/Python/3.9/lib/python/site-packages/IPython/core/ultratb.py\", line 1326, in structured_traceback\n",
      "    return VerboseTB.structured_traceback(\n",
      "  File \"/Users/Lenovo/Library/Python/3.9/lib/python/site-packages/IPython/core/ultratb.py\", line 1173, in structured_traceback\n",
      "    formatted_exception = self.format_exception_as_a_whole(etype, evalue, etb, number_of_lines_of_context,\n",
      "  File \"/Users/Lenovo/Library/Python/3.9/lib/python/site-packages/IPython/core/ultratb.py\", line 1063, in format_exception_as_a_whole\n",
      "    self.get_records(etb, number_of_lines_of_context, tb_offset) if etb else []\n",
      "  File \"/Users/Lenovo/Library/Python/3.9/lib/python/site-packages/IPython/core/ultratb.py\", line 1115, in get_records\n",
      "    style = stack_data.style_with_executing_node(style, self._tb_highlight)\n",
      "  File \"/Users/Lenovo/Library/Python/3.9/lib/python/site-packages/stack_data/core.py\", line 455, in style_with_executing_node\n",
      "    class NewStyle(style):\n",
      "  File \"/Users/Lenovo/Library/Python/3.9/lib/python/site-packages/pygments/style.py\", line 91, in __new__\n",
      "    ndef[4] = colorformat(styledef[3:])\n",
      "  File \"/Users/Lenovo/Library/Python/3.9/lib/python/site-packages/pygments/style.py\", line 58, in colorformat\n",
      "    assert False, \"wrong color format %r\" % text\n",
      "AssertionError: wrong color format 'ansiyellow'\n"
     ]
    }
   ],
   "source": [
    "sympList=df1[\"Symptom\"].to_list()\n",
    "predd(rnd_forest,sympList[7],sympList[5],sympList[2],sympList[90],0,0,0,0,0,0,0,0,0,0,0,0,0)"
   ]
  },
  {
   "cell_type": "code",
   "execution_count": null,
   "metadata": {},
   "outputs": [],
   "source": []
  }
 ],
 "metadata": {
  "kaggle": {
   "accelerator": "none",
   "dataSources": [
    {
     "datasetId": 672162,
     "sourceId": 1182853,
     "sourceType": "datasetVersion"
    }
   ],
   "dockerImageVersionId": 30301,
   "isGpuEnabled": false,
   "isInternetEnabled": false,
   "language": "python",
   "sourceType": "notebook"
  },
  "kernelspec": {
   "display_name": "Python 3",
   "language": "python",
   "name": "python3"
  },
  "language_info": {
   "codemirror_mode": {
    "name": "ipython",
    "version": 3
   },
   "file_extension": ".py",
   "mimetype": "text/x-python",
   "name": "python",
   "nbconvert_exporter": "python",
   "pygments_lexer": "ipython3",
   "version": "3.9.6"
  }
 },
 "nbformat": 4,
 "nbformat_minor": 4
}
